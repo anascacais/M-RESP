{
 "cells": [
  {
   "cell_type": "code",
   "execution_count": 1,
   "metadata": {},
   "outputs": [],
   "source": [
    "# third-party\n",
    "import pickle\n",
    "import pandas as pd\n",
    "import plotly.io as pio   \n",
    "pio.kaleido.scope.mathjax = None\n",
    "\n",
    "# local\n",
    "from results_generator import write_results\n",
    "from get_data import get_participant_ids\n"
   ]
  },
  {
   "cell_type": "code",
   "execution_count": 2,
   "metadata": {},
   "outputs": [
    {
     "name": "stdout",
     "output_type": "stream",
     "text": [
      "Getting data for participants...\n",
      " --------- 7OYX ---------------\n",
      " --------- NO15 ---------------\n",
      " --------- G8B7 ---------------\n",
      " --------- EPE2 ---------------\n",
      " --------- HAK8 ---------------\n",
      " --------- 1BST ---------------\n",
      " --------- 83J1 ---------------\n",
      " --------- QMQ7 ---------------\n",
      " --------- 9TUL ---------------\n",
      " --------- FTD7 ---------------\n",
      " --------- Y6O3 ---------------\n",
      " --------- 2QWT ---------------\n",
      " --------- F9AF ---------------\n",
      " --------- P4W9 ---------------\n",
      " --------- W8Z9 ---------------\n",
      " --------- D4GQ ---------------\n"
     ]
    }
   ],
   "source": [
    "from get_data import get_data_by_id_activity\n",
    "\n",
    "acquisition_folderpath = 'Aquisicao'\n",
    "id_participants = get_participant_ids(acquisition_folderpath)\n",
    "data, data_raw = get_data_by_id_activity(acquisition_folderpath)\n",
    "\n"
   ]
  },
  {
   "cell_type": "code",
   "execution_count": 3,
   "metadata": {},
   "outputs": [
    {
     "name": "stdout",
     "output_type": "stream",
     "text": [
      "Writing results...\n",
      " --------- 7OYX ---------------\n",
      " --------- NO15 ---------------\n",
      " --------- G8B7 ---------------\n",
      " --------- EPE2 ---------------\n",
      " --------- HAK8 ---------------\n",
      " --------- 1BST ---------------\n",
      " --------- 83J1 ---------------\n",
      " --------- QMQ7 ---------------\n",
      "ALR\n",
      " --------- 9TUL ---------------\n",
      " --------- FTD7 ---------------\n",
      " --------- Y6O3 ---------------\n",
      " --------- 2QWT ---------------\n",
      " --------- F9AF ---------------\n",
      " --------- P4W9 ---------------\n",
      " --------- W8Z9 ---------------\n",
      " --------- D4GQ ---------------\n"
     ]
    }
   ],
   "source": [
    "print('Writing results...')\n",
    "for id in id_participants:\n",
    "    print(' ---------',id,'---------------')\n",
    "    write_results(id, data[id], data_raw[id], acquisition_folderpath, show_fig=False)"
   ]
  },
  {
   "cell_type": "code",
   "execution_count": 4,
   "metadata": {},
   "outputs": [
    {
     "data": {
      "text/html": [
       "<div>\n",
       "<style scoped>\n",
       "    .dataframe tbody tr th:only-of-type {\n",
       "        vertical-align: middle;\n",
       "    }\n",
       "\n",
       "    .dataframe tbody tr th {\n",
       "        vertical-align: top;\n",
       "    }\n",
       "\n",
       "    .dataframe thead th {\n",
       "        text-align: right;\n",
       "    }\n",
       "</style>\n",
       "<table border=\"1\" class=\"dataframe\">\n",
       "  <thead>\n",
       "    <tr style=\"text-align: right;\">\n",
       "      <th></th>\n",
       "      <th>thr</th>\n",
       "      <th>Ratio</th>\n",
       "      <th>Precision</th>\n",
       "      <th>Recall</th>\n",
       "      <th>tI</th>\n",
       "      <th>tI error SD</th>\n",
       "      <th>tE</th>\n",
       "      <th>tE error SD</th>\n",
       "      <th>tB</th>\n",
       "      <th>tB error SD</th>\n",
       "    </tr>\n",
       "  </thead>\n",
       "  <tbody>\n",
       "    <tr>\n",
       "      <th>0</th>\n",
       "      <td>0.1</td>\n",
       "      <td>1.1</td>\n",
       "      <td>77</td>\n",
       "      <td>85</td>\n",
       "      <td>13.90</td>\n",
       "      <td>15.84</td>\n",
       "      <td>13.82</td>\n",
       "      <td>15.31</td>\n",
       "      <td>5.45</td>\n",
       "      <td>7.07</td>\n",
       "    </tr>\n",
       "    <tr>\n",
       "      <th>1</th>\n",
       "      <td>0.2</td>\n",
       "      <td>1.1</td>\n",
       "      <td>84</td>\n",
       "      <td>93</td>\n",
       "      <td>16.24</td>\n",
       "      <td>16.18</td>\n",
       "      <td>15.51</td>\n",
       "      <td>15.39</td>\n",
       "      <td>6.51</td>\n",
       "      <td>7.79</td>\n",
       "    </tr>\n",
       "    <tr>\n",
       "      <th>2</th>\n",
       "      <td>0.3</td>\n",
       "      <td>1.1</td>\n",
       "      <td>88</td>\n",
       "      <td>96</td>\n",
       "      <td>18.18</td>\n",
       "      <td>17.55</td>\n",
       "      <td>17.22</td>\n",
       "      <td>16.08</td>\n",
       "      <td>7.40</td>\n",
       "      <td>8.82</td>\n",
       "    </tr>\n",
       "    <tr>\n",
       "      <th>3</th>\n",
       "      <td>0.4</td>\n",
       "      <td>1.1</td>\n",
       "      <td>89</td>\n",
       "      <td>97</td>\n",
       "      <td>19.10</td>\n",
       "      <td>18.25</td>\n",
       "      <td>17.86</td>\n",
       "      <td>16.97</td>\n",
       "      <td>8.08</td>\n",
       "      <td>9.75</td>\n",
       "    </tr>\n",
       "    <tr>\n",
       "      <th>4</th>\n",
       "      <td>0.5</td>\n",
       "      <td>1.1</td>\n",
       "      <td>89</td>\n",
       "      <td>98</td>\n",
       "      <td>19.40</td>\n",
       "      <td>18.79</td>\n",
       "      <td>18.20</td>\n",
       "      <td>17.70</td>\n",
       "      <td>8.26</td>\n",
       "      <td>10.13</td>\n",
       "    </tr>\n",
       "  </tbody>\n",
       "</table>\n",
       "</div>"
      ],
      "text/plain": [
       "   thr  Ratio  Precision  Recall     tI  tI error SD     tE  tE error SD  \\\n",
       "0  0.1    1.1         77      85  13.90        15.84  13.82        15.31   \n",
       "1  0.2    1.1         84      93  16.24        16.18  15.51        15.39   \n",
       "2  0.3    1.1         88      96  18.18        17.55  17.22        16.08   \n",
       "3  0.4    1.1         89      97  19.10        18.25  17.86        16.97   \n",
       "4  0.5    1.1         89      98  19.40        18.79  18.20        17.70   \n",
       "\n",
       "     tB  tB error SD  \n",
       "0  5.45         7.07  \n",
       "1  6.51         7.79  \n",
       "2  7.40         8.82  \n",
       "3  8.08         9.75  \n",
       "4  8.26        10.13  "
      ]
     },
     "execution_count": 4,
     "metadata": {},
     "output_type": "execute_result"
    }
   ],
   "source": [
    "thrs_comparison = pd.DataFrame({\n",
    "    \"thr\": [0.1, 0.2, 0.3, 0.4, 0.5],\n",
    "    \"Ratio\": [1.1, 1.1, 1.1, 1.1, 1.1],\n",
    "    \"Precision\": [77, 84, 88, 89, 89],\n",
    "    \"Recall\": [85, 93, 96, 97, 98],\n",
    "    \"tI\": [13.9, 16.24, 18.18, 19.1, 19.4],\n",
    "    \"tI error SD\": [15.84, 16.18, 17.55, 18.25, 18.79],\n",
    "    \"tE\": [13.82, 15.51, 17.22, 17.86, 18.20],\n",
    "    \"tE error SD\": [15.31, 15.39, 16.08, 16.97, 17.70],\n",
    "    \"tB\": [5.45, 6.51, 7.40, 8.08, 8.26],\n",
    "    \"tB error SD\": [7.07, 7.79, 8.82, 9.75, 10.13]\n",
    "})\n",
    "thrs_comparison\n"
   ]
  },
  {
   "cell_type": "code",
   "execution_count": 5,
   "metadata": {},
   "outputs": [
    {
     "name": "stdout",
     "output_type": "stream",
     "text": [
      "Coefficient of variation\n",
      "\n",
      "Ratio: 0.0\n",
      "Precision: 5.4\n",
      "Recall: 5.0\n",
      "tI: 11.8\n",
      "tE: 9.9\n",
      "tB: 14.6\n",
      "tI error SD: 6.6\n",
      "tE error SD: 5.7\n",
      "tB error SD: 13.2\n"
     ]
    }
   ],
   "source": [
    "import numpy as np\n",
    "\n",
    "print(\"Coefficient of variation\\n\")\n",
    "for metric in [\"Ratio\", \"Precision\", \"Recall\", \"tI\", \"tE\", \"tB\", \"tI error SD\", \"tE error SD\", \"tB error SD\"]:\n",
    "    print(f\"{metric}: {(np.std(thrs_comparison[metric]) / np.mean(thrs_comparison[metric].mean()))*100:.1f}\")"
   ]
  },
  {
   "cell_type": "code",
   "execution_count": 6,
   "metadata": {},
   "outputs": [
    {
     "data": {
      "application/vnd.plotly.v1+json": {
       "config": {
        "plotlyServerURL": "https://plot.ly"
       },
       "data": [
        {
         "line": {
          "color": "#4179A0",
          "width": 2
         },
         "mode": "lines",
         "name": "Precision",
         "type": "scatter",
         "x": [
          0.1,
          0.2,
          0.3,
          0.4,
          0.5
         ],
         "xaxis": "x",
         "y": [
          77,
          84,
          88,
          89,
          89
         ],
         "yaxis": "y"
        },
        {
         "line": {
          "color": "#A0415D",
          "width": 2
         },
         "mode": "lines",
         "name": "Recall",
         "type": "scatter",
         "x": [
          0.1,
          0.2,
          0.3,
          0.4,
          0.5
         ],
         "xaxis": "x",
         "y": [
          85,
          93,
          96,
          97,
          98
         ],
         "yaxis": "y"
        },
        {
         "line": {
          "color": "#44AA97",
          "width": 2
         },
         "mode": "lines",
         "name": "tI",
         "type": "scatter",
         "x": [
          0.1,
          0.2,
          0.3,
          0.4,
          0.5
         ],
         "xaxis": "x2",
         "y": [
          13.9,
          16.24,
          18.18,
          19.1,
          19.4
         ],
         "yaxis": "y2"
        },
        {
         "line": {
          "color": "#FFC000",
          "width": 2
         },
         "mode": "lines",
         "name": "tE",
         "type": "scatter",
         "x": [
          0.1,
          0.2,
          0.3,
          0.4,
          0.5
         ],
         "xaxis": "x2",
         "y": [
          13.82,
          15.51,
          17.22,
          17.86,
          18.2
         ],
         "yaxis": "y2"
        },
        {
         "line": {
          "color": "#0F3970",
          "width": 2
         },
         "mode": "lines",
         "name": "tB",
         "type": "scatter",
         "x": [
          0.1,
          0.2,
          0.3,
          0.4,
          0.5
         ],
         "xaxis": "x2",
         "y": [
          5.45,
          6.51,
          7.4,
          8.08,
          8.26
         ],
         "yaxis": "y2"
        }
       ],
       "layout": {
        "annotations": [
         {
          "font": {
           "size": 16
          },
          "showarrow": false,
          "text": "Ratio of tB(last 5 breaths)",
          "x": 0.5,
          "xanchor": "center",
          "xref": "paper",
          "y": 0,
          "yanchor": "top",
          "yref": "paper",
          "yshift": -30
         },
         {
          "font": {
           "size": 16
          },
          "showarrow": false,
          "text": "Performance / Relative error (%)",
          "textangle": -90,
          "x": 0,
          "xanchor": "right",
          "xref": "paper",
          "xshift": -40,
          "y": 0.5,
          "yanchor": "middle",
          "yref": "paper"
         }
        ],
        "height": 400,
        "showlegend": true,
        "template": {
         "data": {
          "bar": [
           {
            "error_x": {
             "color": "#2a3f5f"
            },
            "error_y": {
             "color": "#2a3f5f"
            },
            "marker": {
             "line": {
              "color": "#E5ECF6",
              "width": 0.5
             },
             "pattern": {
              "fillmode": "overlay",
              "size": 10,
              "solidity": 0.2
             }
            },
            "type": "bar"
           }
          ],
          "barpolar": [
           {
            "marker": {
             "line": {
              "color": "#E5ECF6",
              "width": 0.5
             },
             "pattern": {
              "fillmode": "overlay",
              "size": 10,
              "solidity": 0.2
             }
            },
            "type": "barpolar"
           }
          ],
          "carpet": [
           {
            "aaxis": {
             "endlinecolor": "#2a3f5f",
             "gridcolor": "white",
             "linecolor": "white",
             "minorgridcolor": "white",
             "startlinecolor": "#2a3f5f"
            },
            "baxis": {
             "endlinecolor": "#2a3f5f",
             "gridcolor": "white",
             "linecolor": "white",
             "minorgridcolor": "white",
             "startlinecolor": "#2a3f5f"
            },
            "type": "carpet"
           }
          ],
          "choropleth": [
           {
            "colorbar": {
             "outlinewidth": 0,
             "ticks": ""
            },
            "type": "choropleth"
           }
          ],
          "contour": [
           {
            "colorbar": {
             "outlinewidth": 0,
             "ticks": ""
            },
            "colorscale": [
             [
              0,
              "#0d0887"
             ],
             [
              0.1111111111111111,
              "#46039f"
             ],
             [
              0.2222222222222222,
              "#7201a8"
             ],
             [
              0.3333333333333333,
              "#9c179e"
             ],
             [
              0.4444444444444444,
              "#bd3786"
             ],
             [
              0.5555555555555556,
              "#d8576b"
             ],
             [
              0.6666666666666666,
              "#ed7953"
             ],
             [
              0.7777777777777778,
              "#fb9f3a"
             ],
             [
              0.8888888888888888,
              "#fdca26"
             ],
             [
              1,
              "#f0f921"
             ]
            ],
            "type": "contour"
           }
          ],
          "contourcarpet": [
           {
            "colorbar": {
             "outlinewidth": 0,
             "ticks": ""
            },
            "type": "contourcarpet"
           }
          ],
          "heatmap": [
           {
            "colorbar": {
             "outlinewidth": 0,
             "ticks": ""
            },
            "colorscale": [
             [
              0,
              "#0d0887"
             ],
             [
              0.1111111111111111,
              "#46039f"
             ],
             [
              0.2222222222222222,
              "#7201a8"
             ],
             [
              0.3333333333333333,
              "#9c179e"
             ],
             [
              0.4444444444444444,
              "#bd3786"
             ],
             [
              0.5555555555555556,
              "#d8576b"
             ],
             [
              0.6666666666666666,
              "#ed7953"
             ],
             [
              0.7777777777777778,
              "#fb9f3a"
             ],
             [
              0.8888888888888888,
              "#fdca26"
             ],
             [
              1,
              "#f0f921"
             ]
            ],
            "type": "heatmap"
           }
          ],
          "heatmapgl": [
           {
            "colorbar": {
             "outlinewidth": 0,
             "ticks": ""
            },
            "colorscale": [
             [
              0,
              "#0d0887"
             ],
             [
              0.1111111111111111,
              "#46039f"
             ],
             [
              0.2222222222222222,
              "#7201a8"
             ],
             [
              0.3333333333333333,
              "#9c179e"
             ],
             [
              0.4444444444444444,
              "#bd3786"
             ],
             [
              0.5555555555555556,
              "#d8576b"
             ],
             [
              0.6666666666666666,
              "#ed7953"
             ],
             [
              0.7777777777777778,
              "#fb9f3a"
             ],
             [
              0.8888888888888888,
              "#fdca26"
             ],
             [
              1,
              "#f0f921"
             ]
            ],
            "type": "heatmapgl"
           }
          ],
          "histogram": [
           {
            "marker": {
             "pattern": {
              "fillmode": "overlay",
              "size": 10,
              "solidity": 0.2
             }
            },
            "type": "histogram"
           }
          ],
          "histogram2d": [
           {
            "colorbar": {
             "outlinewidth": 0,
             "ticks": ""
            },
            "colorscale": [
             [
              0,
              "#0d0887"
             ],
             [
              0.1111111111111111,
              "#46039f"
             ],
             [
              0.2222222222222222,
              "#7201a8"
             ],
             [
              0.3333333333333333,
              "#9c179e"
             ],
             [
              0.4444444444444444,
              "#bd3786"
             ],
             [
              0.5555555555555556,
              "#d8576b"
             ],
             [
              0.6666666666666666,
              "#ed7953"
             ],
             [
              0.7777777777777778,
              "#fb9f3a"
             ],
             [
              0.8888888888888888,
              "#fdca26"
             ],
             [
              1,
              "#f0f921"
             ]
            ],
            "type": "histogram2d"
           }
          ],
          "histogram2dcontour": [
           {
            "colorbar": {
             "outlinewidth": 0,
             "ticks": ""
            },
            "colorscale": [
             [
              0,
              "#0d0887"
             ],
             [
              0.1111111111111111,
              "#46039f"
             ],
             [
              0.2222222222222222,
              "#7201a8"
             ],
             [
              0.3333333333333333,
              "#9c179e"
             ],
             [
              0.4444444444444444,
              "#bd3786"
             ],
             [
              0.5555555555555556,
              "#d8576b"
             ],
             [
              0.6666666666666666,
              "#ed7953"
             ],
             [
              0.7777777777777778,
              "#fb9f3a"
             ],
             [
              0.8888888888888888,
              "#fdca26"
             ],
             [
              1,
              "#f0f921"
             ]
            ],
            "type": "histogram2dcontour"
           }
          ],
          "mesh3d": [
           {
            "colorbar": {
             "outlinewidth": 0,
             "ticks": ""
            },
            "type": "mesh3d"
           }
          ],
          "parcoords": [
           {
            "line": {
             "colorbar": {
              "outlinewidth": 0,
              "ticks": ""
             }
            },
            "type": "parcoords"
           }
          ],
          "pie": [
           {
            "automargin": true,
            "type": "pie"
           }
          ],
          "scatter": [
           {
            "fillpattern": {
             "fillmode": "overlay",
             "size": 10,
             "solidity": 0.2
            },
            "type": "scatter"
           }
          ],
          "scatter3d": [
           {
            "line": {
             "colorbar": {
              "outlinewidth": 0,
              "ticks": ""
             }
            },
            "marker": {
             "colorbar": {
              "outlinewidth": 0,
              "ticks": ""
             }
            },
            "type": "scatter3d"
           }
          ],
          "scattercarpet": [
           {
            "marker": {
             "colorbar": {
              "outlinewidth": 0,
              "ticks": ""
             }
            },
            "type": "scattercarpet"
           }
          ],
          "scattergeo": [
           {
            "marker": {
             "colorbar": {
              "outlinewidth": 0,
              "ticks": ""
             }
            },
            "type": "scattergeo"
           }
          ],
          "scattergl": [
           {
            "marker": {
             "colorbar": {
              "outlinewidth": 0,
              "ticks": ""
             }
            },
            "type": "scattergl"
           }
          ],
          "scattermapbox": [
           {
            "marker": {
             "colorbar": {
              "outlinewidth": 0,
              "ticks": ""
             }
            },
            "type": "scattermapbox"
           }
          ],
          "scatterpolar": [
           {
            "marker": {
             "colorbar": {
              "outlinewidth": 0,
              "ticks": ""
             }
            },
            "type": "scatterpolar"
           }
          ],
          "scatterpolargl": [
           {
            "marker": {
             "colorbar": {
              "outlinewidth": 0,
              "ticks": ""
             }
            },
            "type": "scatterpolargl"
           }
          ],
          "scatterternary": [
           {
            "marker": {
             "colorbar": {
              "outlinewidth": 0,
              "ticks": ""
             }
            },
            "type": "scatterternary"
           }
          ],
          "surface": [
           {
            "colorbar": {
             "outlinewidth": 0,
             "ticks": ""
            },
            "colorscale": [
             [
              0,
              "#0d0887"
             ],
             [
              0.1111111111111111,
              "#46039f"
             ],
             [
              0.2222222222222222,
              "#7201a8"
             ],
             [
              0.3333333333333333,
              "#9c179e"
             ],
             [
              0.4444444444444444,
              "#bd3786"
             ],
             [
              0.5555555555555556,
              "#d8576b"
             ],
             [
              0.6666666666666666,
              "#ed7953"
             ],
             [
              0.7777777777777778,
              "#fb9f3a"
             ],
             [
              0.8888888888888888,
              "#fdca26"
             ],
             [
              1,
              "#f0f921"
             ]
            ],
            "type": "surface"
           }
          ],
          "table": [
           {
            "cells": {
             "fill": {
              "color": "#EBF0F8"
             },
             "line": {
              "color": "white"
             }
            },
            "header": {
             "fill": {
              "color": "#C8D4E3"
             },
             "line": {
              "color": "white"
             }
            },
            "type": "table"
           }
          ]
         },
         "layout": {
          "annotationdefaults": {
           "arrowcolor": "#2a3f5f",
           "arrowhead": 0,
           "arrowwidth": 1
          },
          "autotypenumbers": "strict",
          "coloraxis": {
           "colorbar": {
            "outlinewidth": 0,
            "ticks": ""
           }
          },
          "colorscale": {
           "diverging": [
            [
             0,
             "#8e0152"
            ],
            [
             0.1,
             "#c51b7d"
            ],
            [
             0.2,
             "#de77ae"
            ],
            [
             0.3,
             "#f1b6da"
            ],
            [
             0.4,
             "#fde0ef"
            ],
            [
             0.5,
             "#f7f7f7"
            ],
            [
             0.6,
             "#e6f5d0"
            ],
            [
             0.7,
             "#b8e186"
            ],
            [
             0.8,
             "#7fbc41"
            ],
            [
             0.9,
             "#4d9221"
            ],
            [
             1,
             "#276419"
            ]
           ],
           "sequential": [
            [
             0,
             "#0d0887"
            ],
            [
             0.1111111111111111,
             "#46039f"
            ],
            [
             0.2222222222222222,
             "#7201a8"
            ],
            [
             0.3333333333333333,
             "#9c179e"
            ],
            [
             0.4444444444444444,
             "#bd3786"
            ],
            [
             0.5555555555555556,
             "#d8576b"
            ],
            [
             0.6666666666666666,
             "#ed7953"
            ],
            [
             0.7777777777777778,
             "#fb9f3a"
            ],
            [
             0.8888888888888888,
             "#fdca26"
            ],
            [
             1,
             "#f0f921"
            ]
           ],
           "sequentialminus": [
            [
             0,
             "#0d0887"
            ],
            [
             0.1111111111111111,
             "#46039f"
            ],
            [
             0.2222222222222222,
             "#7201a8"
            ],
            [
             0.3333333333333333,
             "#9c179e"
            ],
            [
             0.4444444444444444,
             "#bd3786"
            ],
            [
             0.5555555555555556,
             "#d8576b"
            ],
            [
             0.6666666666666666,
             "#ed7953"
            ],
            [
             0.7777777777777778,
             "#fb9f3a"
            ],
            [
             0.8888888888888888,
             "#fdca26"
            ],
            [
             1,
             "#f0f921"
            ]
           ]
          },
          "colorway": [
           "#636efa",
           "#EF553B",
           "#00cc96",
           "#ab63fa",
           "#FFA15A",
           "#19d3f3",
           "#FF6692",
           "#B6E880",
           "#FF97FF",
           "#FECB52"
          ],
          "font": {
           "color": "#2a3f5f"
          },
          "geo": {
           "bgcolor": "white",
           "lakecolor": "white",
           "landcolor": "#E5ECF6",
           "showlakes": true,
           "showland": true,
           "subunitcolor": "white"
          },
          "hoverlabel": {
           "align": "left"
          },
          "hovermode": "closest",
          "mapbox": {
           "style": "light"
          },
          "paper_bgcolor": "white",
          "plot_bgcolor": "#E5ECF6",
          "polar": {
           "angularaxis": {
            "gridcolor": "white",
            "linecolor": "white",
            "ticks": ""
           },
           "bgcolor": "#E5ECF6",
           "radialaxis": {
            "gridcolor": "white",
            "linecolor": "white",
            "ticks": ""
           }
          },
          "scene": {
           "xaxis": {
            "backgroundcolor": "#E5ECF6",
            "gridcolor": "white",
            "gridwidth": 2,
            "linecolor": "white",
            "showbackground": true,
            "ticks": "",
            "zerolinecolor": "white"
           },
           "yaxis": {
            "backgroundcolor": "#E5ECF6",
            "gridcolor": "white",
            "gridwidth": 2,
            "linecolor": "white",
            "showbackground": true,
            "ticks": "",
            "zerolinecolor": "white"
           },
           "zaxis": {
            "backgroundcolor": "#E5ECF6",
            "gridcolor": "white",
            "gridwidth": 2,
            "linecolor": "white",
            "showbackground": true,
            "ticks": "",
            "zerolinecolor": "white"
           }
          },
          "shapedefaults": {
           "line": {
            "color": "#2a3f5f"
           }
          },
          "ternary": {
           "aaxis": {
            "gridcolor": "white",
            "linecolor": "white",
            "ticks": ""
           },
           "baxis": {
            "gridcolor": "white",
            "linecolor": "white",
            "ticks": ""
           },
           "bgcolor": "#E5ECF6",
           "caxis": {
            "gridcolor": "white",
            "linecolor": "white",
            "ticks": ""
           }
          },
          "title": {
           "x": 0.05
          },
          "xaxis": {
           "automargin": true,
           "gridcolor": "white",
           "linecolor": "white",
           "ticks": "",
           "title": {
            "standoff": 15
           },
           "zerolinecolor": "white",
           "zerolinewidth": 2
          },
          "yaxis": {
           "automargin": true,
           "gridcolor": "white",
           "linecolor": "white",
           "ticks": "",
           "title": {
            "standoff": 15
           },
           "zerolinecolor": "white",
           "zerolinewidth": 2
          }
         }
        },
        "title": {
         "text": "The effect of different acceptability thresholds"
        },
        "width": 600,
        "xaxis": {
         "anchor": "y",
         "domain": [
          0,
          0.45
         ]
        },
        "xaxis2": {
         "anchor": "y2",
         "domain": [
          0.55,
          1
         ]
        },
        "yaxis": {
         "anchor": "x",
         "domain": [
          0,
          1
         ]
        },
        "yaxis2": {
         "anchor": "x2",
         "domain": [
          0,
          1
         ]
        }
       }
      }
     },
     "metadata": {},
     "output_type": "display_data"
    }
   ],
   "source": [
    "import plotly.graph_objects as go\n",
    "from constants import CATEGORICAL_PALETTE\n",
    "from plotly.subplots import make_subplots\n",
    "\n",
    "fig = make_subplots(cols=2, \n",
    "                    x_title=\"Ratio of tB(last 5 breaths)\",\n",
    "                    y_title=\"Performance / Relative error (%)\",\n",
    "                    #subplot_titles=(\"FR detection\", \"Respiratory parameters\")\n",
    "    )\n",
    "\n",
    "\n",
    "for i,metric in enumerate([\"Precision\", \"Recall\"]):\n",
    "    \n",
    "    fig.add_trace(\n",
    "        go.Scatter(\n",
    "            x=thrs_comparison['thr'],\n",
    "            y=thrs_comparison[metric],\n",
    "            line=dict(color=CATEGORICAL_PALETTE[i], width=2),\n",
    "            mode='lines',\n",
    "            name=metric,\n",
    "        ), \n",
    "        row=1, col=1)\n",
    "\n",
    "\n",
    "for i,param in enumerate([\"tI\", \"tE\", \"tB\"]):\n",
    "\n",
    "    fig.add_trace(\n",
    "        go.Scatter(\n",
    "            x=thrs_comparison['thr'],\n",
    "            y=thrs_comparison[param],\n",
    "            line=dict(color=CATEGORICAL_PALETTE[i+3], width=2),\n",
    "            mode='lines',\n",
    "            name=param,\n",
    "            # error_y=dict(\n",
    "            #     type='data', # value of error bar given in data coordinates\n",
    "            #     array=thrs_comparison[f\"{param} SD\"],\n",
    "            #     visible=True\n",
    "            # )\n",
    "    ), \n",
    "    row=1, col=2)\n",
    "\n",
    "fig.update(layout_showlegend=True, layout_height=400, layout_width=600)\n",
    "\n",
    "fig.update_layout(title=\"The effect of different acceptability thresholds\")\n",
    "\n",
    "\n",
    "fig.show()\n",
    "fig.write_image(f\"Results/thr_performance.pdf\")"
   ]
  },
  {
   "cell_type": "code",
   "execution_count": 7,
   "metadata": {},
   "outputs": [],
   "source": [
    "with open('Results/results.pickle', 'rb') as file:\n",
    "    data = pickle.load(file)\n",
    "\n",
    "activities_list = ['SNB', 'SGB', 'MCH', 'SQT', 'MIXB', 'STNB', 'AAL', 'AAR', 'ALL', 'ALR', 'UAL', 'UAR', 'SE', 'SS', 'TR']"
   ]
  },
  {
   "cell_type": "code",
   "execution_count": 8,
   "metadata": {},
   "outputs": [
    {
     "name": "stdout",
     "output_type": "stream",
     "text": [
      "--------- 7OYX ---------------\n",
      "--------- NO15 ---------------\n",
      "--------- G8B7 ---------------\n",
      "--------- EPE2 ---------------\n",
      "--------- HAK8 ---------------\n",
      "--------- 1BST ---------------\n",
      "--------- 83J1 ---------------\n",
      "--------- QMQ7 ---------------\n",
      "    Could not find key 'MIXB'\n",
      "--------- 9TUL ---------------\n",
      "--------- FTD7 ---------------\n",
      "--------- Y6O3 ---------------\n",
      "--------- 2QWT ---------------\n",
      "--------- F9AF ---------------\n",
      "--------- P4W9 ---------------\n",
      "--------- W8Z9 ---------------\n",
      "--------- D4GQ ---------------\n"
     ]
    },
    {
     "data": {
      "text/html": [
       "<div>\n",
       "<style scoped>\n",
       "    .dataframe tbody tr th:only-of-type {\n",
       "        vertical-align: middle;\n",
       "    }\n",
       "\n",
       "    .dataframe tbody tr th {\n",
       "        vertical-align: top;\n",
       "    }\n",
       "\n",
       "    .dataframe thead th {\n",
       "        text-align: right;\n",
       "    }\n",
       "</style>\n",
       "<table border=\"1\" class=\"dataframe\">\n",
       "  <thead>\n",
       "    <tr style=\"text-align: right;\">\n",
       "      <th></th>\n",
       "      <th>participant_id</th>\n",
       "      <th>activity</th>\n",
       "      <th>FR events</th>\n",
       "      <th>complete cycles</th>\n",
       "      <th>BR</th>\n",
       "    </tr>\n",
       "  </thead>\n",
       "  <tbody>\n",
       "    <tr>\n",
       "      <th>0</th>\n",
       "      <td>7OYX</td>\n",
       "      <td>SNB</td>\n",
       "      <td>29</td>\n",
       "      <td>13</td>\n",
       "      <td>13.026052</td>\n",
       "    </tr>\n",
       "    <tr>\n",
       "      <th>1</th>\n",
       "      <td>7OYX</td>\n",
       "      <td>SGB</td>\n",
       "      <td>13</td>\n",
       "      <td>5</td>\n",
       "      <td>5.818464</td>\n",
       "    </tr>\n",
       "    <tr>\n",
       "      <th>2</th>\n",
       "      <td>7OYX</td>\n",
       "      <td>MCH</td>\n",
       "      <td>22</td>\n",
       "      <td>10</td>\n",
       "      <td>9.789525</td>\n",
       "    </tr>\n",
       "    <tr>\n",
       "      <th>3</th>\n",
       "      <td>7OYX</td>\n",
       "      <td>SQT</td>\n",
       "      <td>24</td>\n",
       "      <td>11</td>\n",
       "      <td>11.909058</td>\n",
       "    </tr>\n",
       "    <tr>\n",
       "      <th>4</th>\n",
       "      <td>7OYX</td>\n",
       "      <td>MIXB</td>\n",
       "      <td>24</td>\n",
       "      <td>11</td>\n",
       "      <td>16.228178</td>\n",
       "    </tr>\n",
       "    <tr>\n",
       "      <th>...</th>\n",
       "      <td>...</td>\n",
       "      <td>...</td>\n",
       "      <td>...</td>\n",
       "      <td>...</td>\n",
       "      <td>...</td>\n",
       "    </tr>\n",
       "    <tr>\n",
       "      <th>234</th>\n",
       "      <td>D4GQ</td>\n",
       "      <td>UAL</td>\n",
       "      <td>22</td>\n",
       "      <td>10</td>\n",
       "      <td>10.750762</td>\n",
       "    </tr>\n",
       "    <tr>\n",
       "      <th>235</th>\n",
       "      <td>D4GQ</td>\n",
       "      <td>UAR</td>\n",
       "      <td>21</td>\n",
       "      <td>9</td>\n",
       "      <td>10.217597</td>\n",
       "    </tr>\n",
       "    <tr>\n",
       "      <th>236</th>\n",
       "      <td>D4GQ</td>\n",
       "      <td>SE</td>\n",
       "      <td>21</td>\n",
       "      <td>10</td>\n",
       "      <td>10.209290</td>\n",
       "    </tr>\n",
       "    <tr>\n",
       "      <th>237</th>\n",
       "      <td>D4GQ</td>\n",
       "      <td>SS</td>\n",
       "      <td>19</td>\n",
       "      <td>9</td>\n",
       "      <td>9.303928</td>\n",
       "    </tr>\n",
       "    <tr>\n",
       "      <th>238</th>\n",
       "      <td>D4GQ</td>\n",
       "      <td>TR</td>\n",
       "      <td>17</td>\n",
       "      <td>8</td>\n",
       "      <td>8.060453</td>\n",
       "    </tr>\n",
       "  </tbody>\n",
       "</table>\n",
       "<p>239 rows × 5 columns</p>\n",
       "</div>"
      ],
      "text/plain": [
       "    participant_id activity  FR events  complete cycles         BR\n",
       "0             7OYX      SNB         29               13  13.026052\n",
       "1             7OYX      SGB         13                5   5.818464\n",
       "2             7OYX      MCH         22               10   9.789525\n",
       "3             7OYX      SQT         24               11  11.909058\n",
       "4             7OYX     MIXB         24               11  16.228178\n",
       "..             ...      ...        ...              ...        ...\n",
       "234           D4GQ      UAL         22               10  10.750762\n",
       "235           D4GQ      UAR         21                9  10.217597\n",
       "236           D4GQ       SE         21               10  10.209290\n",
       "237           D4GQ       SS         19                9   9.303928\n",
       "238           D4GQ       TR         17                8   8.060453\n",
       "\n",
       "[239 rows x 5 columns]"
      ]
     },
     "execution_count": 8,
     "metadata": {},
     "output_type": "execute_result"
    }
   ],
   "source": [
    "overview = pd.DataFrame(columns=[\"participant_id\", \"activity\", \"FR events\", \"complete cycles\", \"BR\"])\n",
    "\n",
    "\n",
    "for id in id_participants:\n",
    "    print('---------',id,'---------------')\n",
    "    \n",
    "    new_entry = {\"participant_id\": id}\n",
    "\n",
    "    for activity in activities_list:\n",
    "        try:\n",
    "            new_entry[\"activity\"] = activity\n",
    "            new_entry[\"FR events\"] = len(data[id][activity][\"Airflow\"][\"peaks\"]) + len(data[id][activity][\"Airflow\"][\"valleys\"])\n",
    "            new_entry[\"complete cycles\"] = len(data[id][activity][\"Airflow\"][\"tB (s)\"])\n",
    "            new_entry[\"BR\"] = data[id][activity][\"Airflow\"][\"BR (bpm)\"]\n",
    "\n",
    "            overview.loc[len(overview)] = new_entry\n",
    "        \n",
    "        except KeyError as e:\n",
    "            print(f\"    Could not find key {e}\")\n",
    "            continue\n",
    "\n",
    "overview"
   ]
  },
  {
   "cell_type": "code",
   "execution_count": 9,
   "metadata": {},
   "outputs": [
    {
     "name": "stdout",
     "output_type": "stream",
     "text": [
      "mean BR: 14.65143676191543\n",
      "FR events: 7209\n",
      "complete cycles: 3363\n"
     ]
    }
   ],
   "source": [
    "# get data where activity is not UALm, UARm, SNBm\n",
    "removed_middle = overview[~overview[\"activity\"].isin([\"UALm\", \"UARm\", \"SNBm\"])]\n",
    "print(f\"mean BR: {removed_middle['BR'].mean()}\")\n",
    "print(f\"FR events: {removed_middle['FR events'].sum()}\")\n",
    "print(f\"complete cycles: {removed_middle['complete cycles'].sum()}\")"
   ]
  },
  {
   "cell_type": "code",
   "execution_count": 10,
   "metadata": {},
   "outputs": [
    {
     "data": {
      "text/html": [
       "<div>\n",
       "<style scoped>\n",
       "    .dataframe tbody tr th:only-of-type {\n",
       "        vertical-align: middle;\n",
       "    }\n",
       "\n",
       "    .dataframe tbody tr th {\n",
       "        vertical-align: top;\n",
       "    }\n",
       "\n",
       "    .dataframe thead th {\n",
       "        text-align: right;\n",
       "    }\n",
       "</style>\n",
       "<table border=\"1\" class=\"dataframe\">\n",
       "  <thead>\n",
       "    <tr style=\"text-align: right;\">\n",
       "      <th></th>\n",
       "      <th>activity</th>\n",
       "      <th>BR [bpm]</th>\n",
       "      <th>FR events</th>\n",
       "      <th>complete cycles</th>\n",
       "    </tr>\n",
       "  </thead>\n",
       "  <tbody>\n",
       "    <tr>\n",
       "      <th>0</th>\n",
       "      <td>SNB</td>\n",
       "      <td>13.4 $\\pm$ 3.4</td>\n",
       "      <td>451</td>\n",
       "      <td>208</td>\n",
       "    </tr>\n",
       "    <tr>\n",
       "      <th>1</th>\n",
       "      <td>SGB</td>\n",
       "      <td>5.9 $\\pm$ 0.1</td>\n",
       "      <td>195</td>\n",
       "      <td>80</td>\n",
       "    </tr>\n",
       "    <tr>\n",
       "      <th>2</th>\n",
       "      <td>MCH</td>\n",
       "      <td>15.2 $\\pm$ 4.7</td>\n",
       "      <td>504</td>\n",
       "      <td>236</td>\n",
       "    </tr>\n",
       "    <tr>\n",
       "      <th>3</th>\n",
       "      <td>SQT</td>\n",
       "      <td>16.5 $\\pm$ 4.6</td>\n",
       "      <td>541</td>\n",
       "      <td>254</td>\n",
       "    </tr>\n",
       "    <tr>\n",
       "      <th>4</th>\n",
       "      <td>MIXB</td>\n",
       "      <td>12.2 $\\pm$ 3.0</td>\n",
       "      <td>354</td>\n",
       "      <td>161</td>\n",
       "    </tr>\n",
       "    <tr>\n",
       "      <th>5</th>\n",
       "      <td>STNB</td>\n",
       "      <td>13.2 $\\pm$ 3.4</td>\n",
       "      <td>455</td>\n",
       "      <td>214</td>\n",
       "    </tr>\n",
       "    <tr>\n",
       "      <th>6</th>\n",
       "      <td>AAL</td>\n",
       "      <td>16.5 $\\pm$ 3.8</td>\n",
       "      <td>542</td>\n",
       "      <td>255</td>\n",
       "    </tr>\n",
       "    <tr>\n",
       "      <th>7</th>\n",
       "      <td>AAR</td>\n",
       "      <td>16.5 $\\pm$ 3.9</td>\n",
       "      <td>538</td>\n",
       "      <td>252</td>\n",
       "    </tr>\n",
       "    <tr>\n",
       "      <th>8</th>\n",
       "      <td>ALL</td>\n",
       "      <td>17.4 $\\pm$ 4.2</td>\n",
       "      <td>569</td>\n",
       "      <td>267</td>\n",
       "    </tr>\n",
       "    <tr>\n",
       "      <th>9</th>\n",
       "      <td>ALR</td>\n",
       "      <td>17.1 $\\pm$ 4.1</td>\n",
       "      <td>565</td>\n",
       "      <td>266</td>\n",
       "    </tr>\n",
       "    <tr>\n",
       "      <th>10</th>\n",
       "      <td>UAL</td>\n",
       "      <td>15.5 $\\pm$ 3.7</td>\n",
       "      <td>501</td>\n",
       "      <td>233</td>\n",
       "    </tr>\n",
       "    <tr>\n",
       "      <th>11</th>\n",
       "      <td>UAR</td>\n",
       "      <td>14.9 $\\pm$ 4.1</td>\n",
       "      <td>490</td>\n",
       "      <td>230</td>\n",
       "    </tr>\n",
       "    <tr>\n",
       "      <th>12</th>\n",
       "      <td>SE</td>\n",
       "      <td>16.5 $\\pm$ 5.2</td>\n",
       "      <td>538</td>\n",
       "      <td>254</td>\n",
       "    </tr>\n",
       "    <tr>\n",
       "      <th>13</th>\n",
       "      <td>SS</td>\n",
       "      <td>15.0 $\\pm$ 4.6</td>\n",
       "      <td>500</td>\n",
       "      <td>234</td>\n",
       "    </tr>\n",
       "    <tr>\n",
       "      <th>14</th>\n",
       "      <td>TR</td>\n",
       "      <td>14.1 $\\pm$ 4.3</td>\n",
       "      <td>466</td>\n",
       "      <td>219</td>\n",
       "    </tr>\n",
       "  </tbody>\n",
       "</table>\n",
       "</div>"
      ],
      "text/plain": [
       "   activity        BR [bpm]  FR events  complete cycles\n",
       "0       SNB  13.4 $\\pm$ 3.4        451              208\n",
       "1       SGB   5.9 $\\pm$ 0.1        195               80\n",
       "2       MCH  15.2 $\\pm$ 4.7        504              236\n",
       "3       SQT  16.5 $\\pm$ 4.6        541              254\n",
       "4      MIXB  12.2 $\\pm$ 3.0        354              161\n",
       "5      STNB  13.2 $\\pm$ 3.4        455              214\n",
       "6       AAL  16.5 $\\pm$ 3.8        542              255\n",
       "7       AAR  16.5 $\\pm$ 3.9        538              252\n",
       "8       ALL  17.4 $\\pm$ 4.2        569              267\n",
       "9       ALR  17.1 $\\pm$ 4.1        565              266\n",
       "10      UAL  15.5 $\\pm$ 3.7        501              233\n",
       "11      UAR  14.9 $\\pm$ 4.1        490              230\n",
       "12       SE  16.5 $\\pm$ 5.2        538              254\n",
       "13       SS  15.0 $\\pm$ 4.6        500              234\n",
       "14       TR  14.1 $\\pm$ 4.3        466              219"
      ]
     },
     "execution_count": 10,
     "metadata": {},
     "output_type": "execute_result"
    }
   ],
   "source": [
    "overview_by_activity = pd.DataFrame(columns=[\"activity\", \"BR [bpm]\", \"FR events\", \"complete cycles\"])\n",
    "\n",
    "for activity in activities_list:\n",
    "    new_entry = {\"activity\": activity}\n",
    "    activity_data = overview[overview[\"activity\"] == activity]\n",
    "    new_entry[\"FR events\"] = activity_data[\"FR events\"].sum()\n",
    "    new_entry[\"complete cycles\"] = activity_data[\"complete cycles\"].sum()\n",
    "    new_entry[\"BR [bpm]\"] = f'{np.round(np.mean(activity_data[\"BR\"]), 1)} $\\pm$ {np.round(np.std(activity_data[\"BR\"]), 1)}'\n",
    "    overview_by_activity.loc[len(overview_by_activity)] = new_entry\n",
    "\n",
    "overview_by_activity"
   ]
  },
  {
   "cell_type": "code",
   "execution_count": null,
   "metadata": {},
   "outputs": [],
   "source": []
  }
 ],
 "metadata": {
  "kernelspec": {
   "display_name": ".venv",
   "language": "python",
   "name": "python3"
  },
  "language_info": {
   "codemirror_mode": {
    "name": "ipython",
    "version": 3
   },
   "file_extension": ".py",
   "mimetype": "text/x-python",
   "name": "python",
   "nbconvert_exporter": "python",
   "pygments_lexer": "ipython3",
   "version": "3.9.16"
  },
  "orig_nbformat": 4
 },
 "nbformat": 4,
 "nbformat_minor": 2
}
