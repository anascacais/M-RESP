{
 "cells": [
  {
   "cell_type": "code",
   "execution_count": 1,
   "metadata": {},
   "outputs": [],
   "source": [
    "# third-party\n",
    "import pandas as pd\n",
    "import numpy as np\n",
    "import scipy\n",
    "import pickle\n",
    "\n",
    "# local\n",
    "from get_data import transform_overview_on_target, transform_overview_on_overall\n",
    "from performance import get_fr_detection_performance, get_breath_parameters_performance\n",
    "from delay_performance import normality_test, plot_inspiration_vs_expiration\n",
    "from constants import CATEGORICAL_PALETTE"
   ]
  },
  {
   "cell_type": "code",
   "execution_count": 2,
   "metadata": {},
   "outputs": [],
   "source": [
    "with open('Results/results.pickle', 'rb') as file:\n",
    "    overview = pickle.load(file)\n",
    "\n",
    "overview_middle = {}\n",
    "for id in overview.keys():\n",
    "    overview_middle[id] = {key: value for key, value in overview[id].items() if key in ['SNBm', 'UALm', 'UARm']}\n",
    "\n",
    "# remove middle activities\n",
    "for id in overview.keys():\n",
    "    del overview[id][\"SNBm\"]\n",
    "    del overview[id][\"UALm\"]\n",
    "    del overview[id][\"UARm\"]"
   ]
  },
  {
   "cell_type": "markdown",
   "metadata": {},
   "source": [
    "### Activity-specific only RP analysis"
   ]
  },
  {
   "cell_type": "code",
   "execution_count": 3,
   "metadata": {},
   "outputs": [
    {
     "data": {
      "text/plain": [
       "dict_keys(['SNB', 'SGB', 'MIXB', 'STNB', 'MCH', 'SQT', 'AAL', 'AAR', 'ALL', 'ALR', 'UAL', 'UAR', 'SE', 'SS', 'TR'])"
      ]
     },
     "execution_count": 3,
     "metadata": {},
     "output_type": "execute_result"
    }
   ],
   "source": [
    "# Transform overview from participant specific into all participants\n",
    "\n",
    "overview_all_participants = transform_overview_on_target(overview, target=\"Activity\")\n",
    "overview_all_participants.keys()"
   ]
  },
  {
   "cell_type": "code",
   "execution_count": 4,
   "metadata": {},
   "outputs": [
    {
     "data": {
      "text/html": [
       "<div>\n",
       "<style scoped>\n",
       "    .dataframe tbody tr th:only-of-type {\n",
       "        vertical-align: middle;\n",
       "    }\n",
       "\n",
       "    .dataframe tbody tr th {\n",
       "        vertical-align: top;\n",
       "    }\n",
       "\n",
       "    .dataframe thead th {\n",
       "        text-align: right;\n",
       "    }\n",
       "</style>\n",
       "<table border=\"1\" class=\"dataframe\">\n",
       "  <thead>\n",
       "    <tr style=\"text-align: right;\">\n",
       "      <th></th>\n",
       "      <th>Activity</th>\n",
       "      <th>Sensor</th>\n",
       "      <th>MAE Ti (s)</th>\n",
       "      <th>MRE Ti (%)</th>\n",
       "      <th>R^2 Ti</th>\n",
       "      <th>SSE Ti</th>\n",
       "      <th>MAE Te (s)</th>\n",
       "      <th>MRE Te (%)</th>\n",
       "      <th>R^2 Te</th>\n",
       "      <th>SSE Te</th>\n",
       "      <th>MAE Tb (s)</th>\n",
       "      <th>MRE Tb (%)</th>\n",
       "      <th>R^2 Tb</th>\n",
       "      <th>SSE Tb</th>\n",
       "    </tr>\n",
       "  </thead>\n",
       "  <tbody>\n",
       "    <tr>\n",
       "      <th>0</th>\n",
       "      <td>SNB</td>\n",
       "      <td>MAG</td>\n",
       "      <td>0.31 , 0.47</td>\n",
       "      <td>14.24 , 19.64</td>\n",
       "      <td>0.55</td>\n",
       "      <td>66.19</td>\n",
       "      <td>0.3 , 0.43</td>\n",
       "      <td>11.16 , 14.15</td>\n",
       "      <td>0.77</td>\n",
       "      <td>51.73</td>\n",
       "      <td>0.38 , 0.61</td>\n",
       "      <td>7.9 , 11.65</td>\n",
       "      <td>0.78</td>\n",
       "      <td>103.21</td>\n",
       "    </tr>\n",
       "    <tr>\n",
       "      <th>1</th>\n",
       "      <td>SNB</td>\n",
       "      <td>PZT</td>\n",
       "      <td>0.55 , 0.58</td>\n",
       "      <td>27.41 , 24.8</td>\n",
       "      <td>0.36</td>\n",
       "      <td>123.41</td>\n",
       "      <td>0.57 , 0.59</td>\n",
       "      <td>21.62 , 17.02</td>\n",
       "      <td>0.49</td>\n",
       "      <td>114.86</td>\n",
       "      <td>0.45 , 0.56</td>\n",
       "      <td>9.73 , 11.04</td>\n",
       "      <td>0.75</td>\n",
       "      <td>105.46</td>\n",
       "    </tr>\n",
       "    <tr>\n",
       "      <th>2</th>\n",
       "      <td>SGB</td>\n",
       "      <td>MAG</td>\n",
       "      <td>1.08 , 0.87</td>\n",
       "      <td>25.23 , 22.32</td>\n",
       "      <td>0.63</td>\n",
       "      <td>147.80</td>\n",
       "      <td>1.14 , 0.84</td>\n",
       "      <td>20.77 , 18.37</td>\n",
       "      <td>0.55</td>\n",
       "      <td>140.76</td>\n",
       "      <td>0.76 , 0.74</td>\n",
       "      <td>7.25 , 7.24</td>\n",
       "      <td>0.82</td>\n",
       "      <td>82.73</td>\n",
       "    </tr>\n",
       "    <tr>\n",
       "      <th>3</th>\n",
       "      <td>SGB</td>\n",
       "      <td>PZT</td>\n",
       "      <td>1.39 , 1.08</td>\n",
       "      <td>32.23 , 22.87</td>\n",
       "      <td>0.10</td>\n",
       "      <td>218.41</td>\n",
       "      <td>1.64 , 1.26</td>\n",
       "      <td>29.33 , 23.37</td>\n",
       "      <td>0.01</td>\n",
       "      <td>287.51</td>\n",
       "      <td>0.89 , 1.11</td>\n",
       "      <td>8.7 , 11.03</td>\n",
       "      <td>0.30</td>\n",
       "      <td>155.53</td>\n",
       "    </tr>\n",
       "    <tr>\n",
       "      <th>4</th>\n",
       "      <td>MIXB</td>\n",
       "      <td>MAG</td>\n",
       "      <td>0.35 , 0.44</td>\n",
       "      <td>14.33 , 16.5</td>\n",
       "      <td>0.76</td>\n",
       "      <td>40.35</td>\n",
       "      <td>0.34 , 0.46</td>\n",
       "      <td>11.5 , 13.6</td>\n",
       "      <td>0.86</td>\n",
       "      <td>45.68</td>\n",
       "      <td>0.34 , 0.43</td>\n",
       "      <td>6.17 , 7.13</td>\n",
       "      <td>0.94</td>\n",
       "      <td>46.66</td>\n",
       "    </tr>\n",
       "    <tr>\n",
       "      <th>5</th>\n",
       "      <td>MIXB</td>\n",
       "      <td>PZT</td>\n",
       "      <td>0.77 , 0.68</td>\n",
       "      <td>30.56 , 24.48</td>\n",
       "      <td>0.64</td>\n",
       "      <td>157.77</td>\n",
       "      <td>0.83 , 0.96</td>\n",
       "      <td>25.66 , 21.36</td>\n",
       "      <td>0.64</td>\n",
       "      <td>244.26</td>\n",
       "      <td>0.67 , 0.83</td>\n",
       "      <td>11.67 , 12.86</td>\n",
       "      <td>0.84</td>\n",
       "      <td>170.80</td>\n",
       "    </tr>\n",
       "    <tr>\n",
       "      <th>6</th>\n",
       "      <td>STNB</td>\n",
       "      <td>MAG</td>\n",
       "      <td>0.3 , 0.47</td>\n",
       "      <td>12.79 , 17.04</td>\n",
       "      <td>0.76</td>\n",
       "      <td>54.21</td>\n",
       "      <td>0.32 , 0.48</td>\n",
       "      <td>11.87 , 16.9</td>\n",
       "      <td>0.58</td>\n",
       "      <td>59.68</td>\n",
       "      <td>0.32 , 0.55</td>\n",
       "      <td>6.5 , 10.75</td>\n",
       "      <td>0.80</td>\n",
       "      <td>84.96</td>\n",
       "    </tr>\n",
       "    <tr>\n",
       "      <th>7</th>\n",
       "      <td>STNB</td>\n",
       "      <td>PZT</td>\n",
       "      <td>0.58 , 0.53</td>\n",
       "      <td>26.7 , 21.47</td>\n",
       "      <td>0.49</td>\n",
       "      <td>108.44</td>\n",
       "      <td>0.58 , 0.54</td>\n",
       "      <td>22.19 , 16.15</td>\n",
       "      <td>0.54</td>\n",
       "      <td>104.09</td>\n",
       "      <td>0.39 , 0.51</td>\n",
       "      <td>8.23 , 9.59</td>\n",
       "      <td>0.80</td>\n",
       "      <td>83.30</td>\n",
       "    </tr>\n",
       "    <tr>\n",
       "      <th>8</th>\n",
       "      <td>MCH</td>\n",
       "      <td>MAG</td>\n",
       "      <td>0.39 , 0.37</td>\n",
       "      <td>20.68 , 16.54</td>\n",
       "      <td>0.74</td>\n",
       "      <td>66.92</td>\n",
       "      <td>0.36 , 0.34</td>\n",
       "      <td>19.13 , 17.53</td>\n",
       "      <td>0.71</td>\n",
       "      <td>55.18</td>\n",
       "      <td>0.33 , 0.38</td>\n",
       "      <td>8.57 , 9.04</td>\n",
       "      <td>0.90</td>\n",
       "      <td>59.28</td>\n",
       "    </tr>\n",
       "    <tr>\n",
       "      <th>9</th>\n",
       "      <td>MCH</td>\n",
       "      <td>PZT</td>\n",
       "      <td>0.64 , 0.54</td>\n",
       "      <td>31.52 , 23.47</td>\n",
       "      <td>0.46</td>\n",
       "      <td>160.05</td>\n",
       "      <td>0.58 , 0.51</td>\n",
       "      <td>29.99 , 23.29</td>\n",
       "      <td>0.58</td>\n",
       "      <td>140.41</td>\n",
       "      <td>0.6 , 0.58</td>\n",
       "      <td>15.26 , 14.84</td>\n",
       "      <td>0.76</td>\n",
       "      <td>157.55</td>\n",
       "    </tr>\n",
       "    <tr>\n",
       "      <th>10</th>\n",
       "      <td>SQT</td>\n",
       "      <td>MAG</td>\n",
       "      <td>0.36 , 0.29</td>\n",
       "      <td>19.54 , 13.31</td>\n",
       "      <td>0.64</td>\n",
       "      <td>55.19</td>\n",
       "      <td>0.35 , 0.28</td>\n",
       "      <td>19.77 , 14.05</td>\n",
       "      <td>0.67</td>\n",
       "      <td>49.39</td>\n",
       "      <td>0.28 , 0.35</td>\n",
       "      <td>7.22 , 7.81</td>\n",
       "      <td>0.87</td>\n",
       "      <td>51.17</td>\n",
       "    </tr>\n",
       "    <tr>\n",
       "      <th>11</th>\n",
       "      <td>SQT</td>\n",
       "      <td>PZT</td>\n",
       "      <td>0.61 , 0.53</td>\n",
       "      <td>32.9 , 26.16</td>\n",
       "      <td>0.25</td>\n",
       "      <td>158.04</td>\n",
       "      <td>0.61 , 0.55</td>\n",
       "      <td>33.04 , 25.23</td>\n",
       "      <td>0.50</td>\n",
       "      <td>172.10</td>\n",
       "      <td>0.61 , 0.63</td>\n",
       "      <td>15.94 , 16.1</td>\n",
       "      <td>0.64</td>\n",
       "      <td>190.30</td>\n",
       "    </tr>\n",
       "    <tr>\n",
       "      <th>12</th>\n",
       "      <td>AAL</td>\n",
       "      <td>MAG</td>\n",
       "      <td>0.3 , 0.3</td>\n",
       "      <td>17.65 , 16.58</td>\n",
       "      <td>0.70</td>\n",
       "      <td>44.51</td>\n",
       "      <td>0.32 , 0.33</td>\n",
       "      <td>15.9 , 14.44</td>\n",
       "      <td>0.60</td>\n",
       "      <td>51.73</td>\n",
       "      <td>0.31 , 0.39</td>\n",
       "      <td>8.25 , 9.78</td>\n",
       "      <td>0.83</td>\n",
       "      <td>60.82</td>\n",
       "    </tr>\n",
       "    <tr>\n",
       "      <th>13</th>\n",
       "      <td>AAL</td>\n",
       "      <td>PZT</td>\n",
       "      <td>0.5 , 0.43</td>\n",
       "      <td>29.37 , 24.18</td>\n",
       "      <td>0.20</td>\n",
       "      <td>108.80</td>\n",
       "      <td>0.52 , 0.49</td>\n",
       "      <td>26.56 , 23.78</td>\n",
       "      <td>0.38</td>\n",
       "      <td>132.81</td>\n",
       "      <td>0.42 , 0.51</td>\n",
       "      <td>11.49 , 13.22</td>\n",
       "      <td>0.65</td>\n",
       "      <td>109.71</td>\n",
       "    </tr>\n",
       "    <tr>\n",
       "      <th>14</th>\n",
       "      <td>AAR</td>\n",
       "      <td>MAG</td>\n",
       "      <td>0.29 , 0.3</td>\n",
       "      <td>16.61 , 14.81</td>\n",
       "      <td>0.57</td>\n",
       "      <td>42.75</td>\n",
       "      <td>0.31 , 0.32</td>\n",
       "      <td>16.12 , 15.11</td>\n",
       "      <td>0.65</td>\n",
       "      <td>48.77</td>\n",
       "      <td>0.23 , 0.36</td>\n",
       "      <td>5.43 , 7.28</td>\n",
       "      <td>0.85</td>\n",
       "      <td>44.55</td>\n",
       "    </tr>\n",
       "    <tr>\n",
       "      <th>15</th>\n",
       "      <td>AAR</td>\n",
       "      <td>PZT</td>\n",
       "      <td>0.5 , 0.47</td>\n",
       "      <td>28.54 , 24.06</td>\n",
       "      <td>0.36</td>\n",
       "      <td>118.16</td>\n",
       "      <td>0.54 , 0.46</td>\n",
       "      <td>29.04 , 23.01</td>\n",
       "      <td>0.46</td>\n",
       "      <td>129.82</td>\n",
       "      <td>0.41 , 0.49</td>\n",
       "      <td>10.86 , 12.57</td>\n",
       "      <td>0.73</td>\n",
       "      <td>100.89</td>\n",
       "    </tr>\n",
       "    <tr>\n",
       "      <th>16</th>\n",
       "      <td>ALL</td>\n",
       "      <td>MAG</td>\n",
       "      <td>0.31 , 0.29</td>\n",
       "      <td>18.64 , 15.76</td>\n",
       "      <td>0.74</td>\n",
       "      <td>49.40</td>\n",
       "      <td>0.31 , 0.29</td>\n",
       "      <td>17.69 , 16.88</td>\n",
       "      <td>0.57</td>\n",
       "      <td>46.84</td>\n",
       "      <td>0.24 , 0.3</td>\n",
       "      <td>7.08 , 9.04</td>\n",
       "      <td>0.89</td>\n",
       "      <td>39.65</td>\n",
       "    </tr>\n",
       "    <tr>\n",
       "      <th>17</th>\n",
       "      <td>ALL</td>\n",
       "      <td>PZT</td>\n",
       "      <td>0.53 , 0.42</td>\n",
       "      <td>30.88 , 21.69</td>\n",
       "      <td>0.31</td>\n",
       "      <td>115.74</td>\n",
       "      <td>0.56 , 0.44</td>\n",
       "      <td>30.89 , 22.46</td>\n",
       "      <td>0.51</td>\n",
       "      <td>134.91</td>\n",
       "      <td>0.48 , 0.51</td>\n",
       "      <td>13.57 , 13.89</td>\n",
       "      <td>0.70</td>\n",
       "      <td>127.33</td>\n",
       "    </tr>\n",
       "    <tr>\n",
       "      <th>18</th>\n",
       "      <td>ALR</td>\n",
       "      <td>MAG</td>\n",
       "      <td>0.31 , 0.32</td>\n",
       "      <td>18.53 , 19.23</td>\n",
       "      <td>0.87</td>\n",
       "      <td>50.55</td>\n",
       "      <td>0.31 , 0.31</td>\n",
       "      <td>17.1 , 16.84</td>\n",
       "      <td>0.74</td>\n",
       "      <td>50.02</td>\n",
       "      <td>0.29 , 0.42</td>\n",
       "      <td>7.91 , 10.4</td>\n",
       "      <td>0.91</td>\n",
       "      <td>65.35</td>\n",
       "    </tr>\n",
       "    <tr>\n",
       "      <th>19</th>\n",
       "      <td>ALR</td>\n",
       "      <td>PZT</td>\n",
       "      <td>0.58 , 0.48</td>\n",
       "      <td>34.77 , 25.06</td>\n",
       "      <td>0.29</td>\n",
       "      <td>129.91</td>\n",
       "      <td>0.51 , 0.42</td>\n",
       "      <td>28.9 , 26.65</td>\n",
       "      <td>0.86</td>\n",
       "      <td>103.47</td>\n",
       "      <td>0.49 , 0.55</td>\n",
       "      <td>13.2 , 14.84</td>\n",
       "      <td>0.86</td>\n",
       "      <td>124.66</td>\n",
       "    </tr>\n",
       "    <tr>\n",
       "      <th>20</th>\n",
       "      <td>UAL</td>\n",
       "      <td>MAG</td>\n",
       "      <td>0.41 , 0.35</td>\n",
       "      <td>22.47 , 18.12</td>\n",
       "      <td>0.57</td>\n",
       "      <td>63.60</td>\n",
       "      <td>0.44 , 0.37</td>\n",
       "      <td>20.43 , 15.1</td>\n",
       "      <td>0.57</td>\n",
       "      <td>72.67</td>\n",
       "      <td>0.35 , 0.4</td>\n",
       "      <td>8.63 , 8.81</td>\n",
       "      <td>0.83</td>\n",
       "      <td>65.32</td>\n",
       "    </tr>\n",
       "    <tr>\n",
       "      <th>21</th>\n",
       "      <td>UAL</td>\n",
       "      <td>PZT</td>\n",
       "      <td>0.63 , 0.5</td>\n",
       "      <td>33.98 , 25.02</td>\n",
       "      <td>0.28</td>\n",
       "      <td>147.96</td>\n",
       "      <td>0.63 , 0.56</td>\n",
       "      <td>29.55 , 25.21</td>\n",
       "      <td>0.46</td>\n",
       "      <td>166.53</td>\n",
       "      <td>0.63 , 0.73</td>\n",
       "      <td>15.63 , 17.7</td>\n",
       "      <td>0.58</td>\n",
       "      <td>206.86</td>\n",
       "    </tr>\n",
       "    <tr>\n",
       "      <th>22</th>\n",
       "      <td>UAR</td>\n",
       "      <td>MAG</td>\n",
       "      <td>0.33 , 0.35</td>\n",
       "      <td>17.52 , 18.08</td>\n",
       "      <td>0.67</td>\n",
       "      <td>52.22</td>\n",
       "      <td>0.33 , 0.35</td>\n",
       "      <td>16.22 , 15.71</td>\n",
       "      <td>0.63</td>\n",
       "      <td>48.16</td>\n",
       "      <td>0.34 , 0.42</td>\n",
       "      <td>8.29 , 10.33</td>\n",
       "      <td>0.84</td>\n",
       "      <td>65.43</td>\n",
       "    </tr>\n",
       "    <tr>\n",
       "      <th>23</th>\n",
       "      <td>UAR</td>\n",
       "      <td>PZT</td>\n",
       "      <td>0.63 , 0.56</td>\n",
       "      <td>31.7 , 23.89</td>\n",
       "      <td>0.51</td>\n",
       "      <td>162.66</td>\n",
       "      <td>0.7 , 0.57</td>\n",
       "      <td>34.57 , 25.4</td>\n",
       "      <td>0.38</td>\n",
       "      <td>184.23</td>\n",
       "      <td>0.61 , 0.62</td>\n",
       "      <td>15.18 , 15.77</td>\n",
       "      <td>0.70</td>\n",
       "      <td>171.51</td>\n",
       "    </tr>\n",
       "    <tr>\n",
       "      <th>24</th>\n",
       "      <td>SE</td>\n",
       "      <td>MAG</td>\n",
       "      <td>0.32 , 0.33</td>\n",
       "      <td>17.8 , 17.16</td>\n",
       "      <td>0.72</td>\n",
       "      <td>54.45</td>\n",
       "      <td>0.31 , 0.29</td>\n",
       "      <td>17.33 , 14.43</td>\n",
       "      <td>0.71</td>\n",
       "      <td>47.71</td>\n",
       "      <td>0.31 , 0.36</td>\n",
       "      <td>8.25 , 9.56</td>\n",
       "      <td>0.89</td>\n",
       "      <td>57.39</td>\n",
       "    </tr>\n",
       "    <tr>\n",
       "      <th>25</th>\n",
       "      <td>SE</td>\n",
       "      <td>PZT</td>\n",
       "      <td>0.55 , 0.53</td>\n",
       "      <td>28.75 , 23.52</td>\n",
       "      <td>0.49</td>\n",
       "      <td>145.27</td>\n",
       "      <td>0.58 , 0.59</td>\n",
       "      <td>28.83 , 21.97</td>\n",
       "      <td>0.55</td>\n",
       "      <td>165.82</td>\n",
       "      <td>0.55 , 0.63</td>\n",
       "      <td>13.86 , 14.36</td>\n",
       "      <td>0.75</td>\n",
       "      <td>170.96</td>\n",
       "    </tr>\n",
       "    <tr>\n",
       "      <th>26</th>\n",
       "      <td>SS</td>\n",
       "      <td>MAG</td>\n",
       "      <td>0.57 , 0.52</td>\n",
       "      <td>29.0 , 24.23</td>\n",
       "      <td>0.50</td>\n",
       "      <td>138.38</td>\n",
       "      <td>0.58 , 0.47</td>\n",
       "      <td>29.87 , 22.59</td>\n",
       "      <td>0.52</td>\n",
       "      <td>124.73</td>\n",
       "      <td>0.51 , 0.53</td>\n",
       "      <td>12.92 , 12.95</td>\n",
       "      <td>0.79</td>\n",
       "      <td>122.91</td>\n",
       "    </tr>\n",
       "    <tr>\n",
       "      <th>27</th>\n",
       "      <td>SS</td>\n",
       "      <td>PZT</td>\n",
       "      <td>0.71 , 0.52</td>\n",
       "      <td>36.57 , 26.27</td>\n",
       "      <td>0.86</td>\n",
       "      <td>169.21</td>\n",
       "      <td>0.74 , 0.51</td>\n",
       "      <td>38.05 , 24.74</td>\n",
       "      <td>0.46</td>\n",
       "      <td>177.16</td>\n",
       "      <td>0.63 , 0.62</td>\n",
       "      <td>16.01 , 16.99</td>\n",
       "      <td>0.87</td>\n",
       "      <td>169.70</td>\n",
       "    </tr>\n",
       "    <tr>\n",
       "      <th>28</th>\n",
       "      <td>TR</td>\n",
       "      <td>MAG</td>\n",
       "      <td>0.64 , 0.54</td>\n",
       "      <td>29.44 , 24.74</td>\n",
       "      <td>0.64</td>\n",
       "      <td>131.78</td>\n",
       "      <td>0.67 , 0.6</td>\n",
       "      <td>28.81 , 26.27</td>\n",
       "      <td>0.45</td>\n",
       "      <td>145.48</td>\n",
       "      <td>0.62 , 0.61</td>\n",
       "      <td>13.49 , 13.29</td>\n",
       "      <td>0.79</td>\n",
       "      <td>142.92</td>\n",
       "    </tr>\n",
       "    <tr>\n",
       "      <th>29</th>\n",
       "      <td>TR</td>\n",
       "      <td>PZT</td>\n",
       "      <td>0.73 , 0.64</td>\n",
       "      <td>33.77 , 25.5</td>\n",
       "      <td>0.38</td>\n",
       "      <td>193.76</td>\n",
       "      <td>0.77 , 0.67</td>\n",
       "      <td>32.87 , 27.5</td>\n",
       "      <td>0.43</td>\n",
       "      <td>206.68</td>\n",
       "      <td>0.66 , 0.65</td>\n",
       "      <td>14.68 , 13.2</td>\n",
       "      <td>0.75</td>\n",
       "      <td>177.31</td>\n",
       "    </tr>\n",
       "  </tbody>\n",
       "</table>\n",
       "</div>"
      ],
      "text/plain": [
       "   Activity Sensor   MAE Ti (s)     MRE Ti (%)  R^2 Ti  SSE Ti   MAE Te (s)  \\\n",
       "0       SNB    MAG  0.31 , 0.47  14.24 , 19.64    0.55   66.19   0.3 , 0.43   \n",
       "1       SNB    PZT  0.55 , 0.58   27.41 , 24.8    0.36  123.41  0.57 , 0.59   \n",
       "2       SGB    MAG  1.08 , 0.87  25.23 , 22.32    0.63  147.80  1.14 , 0.84   \n",
       "3       SGB    PZT  1.39 , 1.08  32.23 , 22.87    0.10  218.41  1.64 , 1.26   \n",
       "4      MIXB    MAG  0.35 , 0.44   14.33 , 16.5    0.76   40.35  0.34 , 0.46   \n",
       "5      MIXB    PZT  0.77 , 0.68  30.56 , 24.48    0.64  157.77  0.83 , 0.96   \n",
       "6      STNB    MAG   0.3 , 0.47  12.79 , 17.04    0.76   54.21  0.32 , 0.48   \n",
       "7      STNB    PZT  0.58 , 0.53   26.7 , 21.47    0.49  108.44  0.58 , 0.54   \n",
       "8       MCH    MAG  0.39 , 0.37  20.68 , 16.54    0.74   66.92  0.36 , 0.34   \n",
       "9       MCH    PZT  0.64 , 0.54  31.52 , 23.47    0.46  160.05  0.58 , 0.51   \n",
       "10      SQT    MAG  0.36 , 0.29  19.54 , 13.31    0.64   55.19  0.35 , 0.28   \n",
       "11      SQT    PZT  0.61 , 0.53   32.9 , 26.16    0.25  158.04  0.61 , 0.55   \n",
       "12      AAL    MAG    0.3 , 0.3  17.65 , 16.58    0.70   44.51  0.32 , 0.33   \n",
       "13      AAL    PZT   0.5 , 0.43  29.37 , 24.18    0.20  108.80  0.52 , 0.49   \n",
       "14      AAR    MAG   0.29 , 0.3  16.61 , 14.81    0.57   42.75  0.31 , 0.32   \n",
       "15      AAR    PZT   0.5 , 0.47  28.54 , 24.06    0.36  118.16  0.54 , 0.46   \n",
       "16      ALL    MAG  0.31 , 0.29  18.64 , 15.76    0.74   49.40  0.31 , 0.29   \n",
       "17      ALL    PZT  0.53 , 0.42  30.88 , 21.69    0.31  115.74  0.56 , 0.44   \n",
       "18      ALR    MAG  0.31 , 0.32  18.53 , 19.23    0.87   50.55  0.31 , 0.31   \n",
       "19      ALR    PZT  0.58 , 0.48  34.77 , 25.06    0.29  129.91  0.51 , 0.42   \n",
       "20      UAL    MAG  0.41 , 0.35  22.47 , 18.12    0.57   63.60  0.44 , 0.37   \n",
       "21      UAL    PZT   0.63 , 0.5  33.98 , 25.02    0.28  147.96  0.63 , 0.56   \n",
       "22      UAR    MAG  0.33 , 0.35  17.52 , 18.08    0.67   52.22  0.33 , 0.35   \n",
       "23      UAR    PZT  0.63 , 0.56   31.7 , 23.89    0.51  162.66   0.7 , 0.57   \n",
       "24       SE    MAG  0.32 , 0.33   17.8 , 17.16    0.72   54.45  0.31 , 0.29   \n",
       "25       SE    PZT  0.55 , 0.53  28.75 , 23.52    0.49  145.27  0.58 , 0.59   \n",
       "26       SS    MAG  0.57 , 0.52   29.0 , 24.23    0.50  138.38  0.58 , 0.47   \n",
       "27       SS    PZT  0.71 , 0.52  36.57 , 26.27    0.86  169.21  0.74 , 0.51   \n",
       "28       TR    MAG  0.64 , 0.54  29.44 , 24.74    0.64  131.78   0.67 , 0.6   \n",
       "29       TR    PZT  0.73 , 0.64   33.77 , 25.5    0.38  193.76  0.77 , 0.67   \n",
       "\n",
       "       MRE Te (%)  R^2 Te  SSE Te   MAE Tb (s)     MRE Tb (%)  R^2 Tb  SSE Tb  \n",
       "0   11.16 , 14.15    0.77   51.73  0.38 , 0.61    7.9 , 11.65    0.78  103.21  \n",
       "1   21.62 , 17.02    0.49  114.86  0.45 , 0.56   9.73 , 11.04    0.75  105.46  \n",
       "2   20.77 , 18.37    0.55  140.76  0.76 , 0.74    7.25 , 7.24    0.82   82.73  \n",
       "3   29.33 , 23.37    0.01  287.51  0.89 , 1.11    8.7 , 11.03    0.30  155.53  \n",
       "4     11.5 , 13.6    0.86   45.68  0.34 , 0.43    6.17 , 7.13    0.94   46.66  \n",
       "5   25.66 , 21.36    0.64  244.26  0.67 , 0.83  11.67 , 12.86    0.84  170.80  \n",
       "6    11.87 , 16.9    0.58   59.68  0.32 , 0.55    6.5 , 10.75    0.80   84.96  \n",
       "7   22.19 , 16.15    0.54  104.09  0.39 , 0.51    8.23 , 9.59    0.80   83.30  \n",
       "8   19.13 , 17.53    0.71   55.18  0.33 , 0.38    8.57 , 9.04    0.90   59.28  \n",
       "9   29.99 , 23.29    0.58  140.41   0.6 , 0.58  15.26 , 14.84    0.76  157.55  \n",
       "10  19.77 , 14.05    0.67   49.39  0.28 , 0.35    7.22 , 7.81    0.87   51.17  \n",
       "11  33.04 , 25.23    0.50  172.10  0.61 , 0.63   15.94 , 16.1    0.64  190.30  \n",
       "12   15.9 , 14.44    0.60   51.73  0.31 , 0.39    8.25 , 9.78    0.83   60.82  \n",
       "13  26.56 , 23.78    0.38  132.81  0.42 , 0.51  11.49 , 13.22    0.65  109.71  \n",
       "14  16.12 , 15.11    0.65   48.77  0.23 , 0.36    5.43 , 7.28    0.85   44.55  \n",
       "15  29.04 , 23.01    0.46  129.82  0.41 , 0.49  10.86 , 12.57    0.73  100.89  \n",
       "16  17.69 , 16.88    0.57   46.84   0.24 , 0.3    7.08 , 9.04    0.89   39.65  \n",
       "17  30.89 , 22.46    0.51  134.91  0.48 , 0.51  13.57 , 13.89    0.70  127.33  \n",
       "18   17.1 , 16.84    0.74   50.02  0.29 , 0.42    7.91 , 10.4    0.91   65.35  \n",
       "19   28.9 , 26.65    0.86  103.47  0.49 , 0.55   13.2 , 14.84    0.86  124.66  \n",
       "20   20.43 , 15.1    0.57   72.67   0.35 , 0.4    8.63 , 8.81    0.83   65.32  \n",
       "21  29.55 , 25.21    0.46  166.53  0.63 , 0.73   15.63 , 17.7    0.58  206.86  \n",
       "22  16.22 , 15.71    0.63   48.16  0.34 , 0.42   8.29 , 10.33    0.84   65.43  \n",
       "23   34.57 , 25.4    0.38  184.23  0.61 , 0.62  15.18 , 15.77    0.70  171.51  \n",
       "24  17.33 , 14.43    0.71   47.71  0.31 , 0.36    8.25 , 9.56    0.89   57.39  \n",
       "25  28.83 , 21.97    0.55  165.82  0.55 , 0.63  13.86 , 14.36    0.75  170.96  \n",
       "26  29.87 , 22.59    0.52  124.73  0.51 , 0.53  12.92 , 12.95    0.79  122.91  \n",
       "27  38.05 , 24.74    0.46  177.16  0.63 , 0.62  16.01 , 16.99    0.87  169.70  \n",
       "28  28.81 , 26.27    0.45  145.48  0.62 , 0.61  13.49 , 13.29    0.79  142.92  \n",
       "29   32.87 , 27.5    0.43  206.68  0.66 , 0.65   14.68 , 13.2    0.75  177.31  "
      ]
     },
     "execution_count": 4,
     "metadata": {},
     "output_type": "execute_result"
    }
   ],
   "source": [
    "performance_all_participants = get_breath_parameters_performance(overview_all_participants, target=\"Activity\")\n",
    "performance_all_participants"
   ]
  },
  {
   "cell_type": "code",
   "execution_count": 5,
   "metadata": {},
   "outputs": [
    {
     "data": {
      "text/html": [
       "<div>\n",
       "<style scoped>\n",
       "    .dataframe tbody tr th:only-of-type {\n",
       "        vertical-align: middle;\n",
       "    }\n",
       "\n",
       "    .dataframe tbody tr th {\n",
       "        vertical-align: top;\n",
       "    }\n",
       "\n",
       "    .dataframe thead th {\n",
       "        text-align: right;\n",
       "    }\n",
       "</style>\n",
       "<table border=\"1\" class=\"dataframe\">\n",
       "  <thead>\n",
       "    <tr style=\"text-align: right;\">\n",
       "      <th></th>\n",
       "      <th>SSE Ti</th>\n",
       "      <th>SSE Te</th>\n",
       "      <th>SSE Tb</th>\n",
       "      <th>Activity</th>\n",
       "    </tr>\n",
       "  </thead>\n",
       "  <tbody>\n",
       "    <tr>\n",
       "      <th>0</th>\n",
       "      <td>0.536342</td>\n",
       "      <td>0.450374</td>\n",
       "      <td>0.978665</td>\n",
       "      <td>SNB</td>\n",
       "    </tr>\n",
       "    <tr>\n",
       "      <th>1</th>\n",
       "      <td>0.676709</td>\n",
       "      <td>0.489583</td>\n",
       "      <td>0.531923</td>\n",
       "      <td>SGB</td>\n",
       "    </tr>\n",
       "    <tr>\n",
       "      <th>2</th>\n",
       "      <td>0.255752</td>\n",
       "      <td>0.187014</td>\n",
       "      <td>0.273185</td>\n",
       "      <td>MIXB</td>\n",
       "    </tr>\n",
       "    <tr>\n",
       "      <th>3</th>\n",
       "      <td>0.499908</td>\n",
       "      <td>0.573350</td>\n",
       "      <td>1.019928</td>\n",
       "      <td>STNB</td>\n",
       "    </tr>\n",
       "    <tr>\n",
       "      <th>4</th>\n",
       "      <td>0.418119</td>\n",
       "      <td>0.392992</td>\n",
       "      <td>0.376262</td>\n",
       "      <td>MCH</td>\n",
       "    </tr>\n",
       "    <tr>\n",
       "      <th>5</th>\n",
       "      <td>0.349215</td>\n",
       "      <td>0.286984</td>\n",
       "      <td>0.268891</td>\n",
       "      <td>SQT</td>\n",
       "    </tr>\n",
       "    <tr>\n",
       "      <th>6</th>\n",
       "      <td>0.409099</td>\n",
       "      <td>0.389504</td>\n",
       "      <td>0.554371</td>\n",
       "      <td>AAL</td>\n",
       "    </tr>\n",
       "    <tr>\n",
       "      <th>7</th>\n",
       "      <td>0.361798</td>\n",
       "      <td>0.375674</td>\n",
       "      <td>0.441570</td>\n",
       "      <td>AAR</td>\n",
       "    </tr>\n",
       "    <tr>\n",
       "      <th>8</th>\n",
       "      <td>0.426819</td>\n",
       "      <td>0.347194</td>\n",
       "      <td>0.311396</td>\n",
       "      <td>ALL</td>\n",
       "    </tr>\n",
       "    <tr>\n",
       "      <th>9</th>\n",
       "      <td>0.389116</td>\n",
       "      <td>0.483425</td>\n",
       "      <td>0.524226</td>\n",
       "      <td>ALR</td>\n",
       "    </tr>\n",
       "    <tr>\n",
       "      <th>10</th>\n",
       "      <td>0.429846</td>\n",
       "      <td>0.436378</td>\n",
       "      <td>0.315769</td>\n",
       "      <td>UAL</td>\n",
       "    </tr>\n",
       "    <tr>\n",
       "      <th>11</th>\n",
       "      <td>0.321038</td>\n",
       "      <td>0.261412</td>\n",
       "      <td>0.381494</td>\n",
       "      <td>UAR</td>\n",
       "    </tr>\n",
       "    <tr>\n",
       "      <th>12</th>\n",
       "      <td>0.374819</td>\n",
       "      <td>0.287722</td>\n",
       "      <td>0.335693</td>\n",
       "      <td>SE</td>\n",
       "    </tr>\n",
       "    <tr>\n",
       "      <th>13</th>\n",
       "      <td>0.817800</td>\n",
       "      <td>0.704053</td>\n",
       "      <td>0.724278</td>\n",
       "      <td>SS</td>\n",
       "    </tr>\n",
       "    <tr>\n",
       "      <th>14</th>\n",
       "      <td>0.680120</td>\n",
       "      <td>0.703890</td>\n",
       "      <td>0.806046</td>\n",
       "      <td>TR</td>\n",
       "    </tr>\n",
       "  </tbody>\n",
       "</table>\n",
       "</div>"
      ],
      "text/plain": [
       "      SSE Ti    SSE Te    SSE Tb Activity\n",
       "0   0.536342  0.450374  0.978665      SNB\n",
       "1   0.676709  0.489583  0.531923      SGB\n",
       "2   0.255752  0.187014  0.273185     MIXB\n",
       "3   0.499908  0.573350  1.019928     STNB\n",
       "4   0.418119  0.392992  0.376262      MCH\n",
       "5   0.349215  0.286984  0.268891      SQT\n",
       "6   0.409099  0.389504  0.554371      AAL\n",
       "7   0.361798  0.375674  0.441570      AAR\n",
       "8   0.426819  0.347194  0.311396      ALL\n",
       "9   0.389116  0.483425  0.524226      ALR\n",
       "10  0.429846  0.436378  0.315769      UAL\n",
       "11  0.321038  0.261412  0.381494      UAR\n",
       "12  0.374819  0.287722  0.335693       SE\n",
       "13  0.817800  0.704053  0.724278       SS\n",
       "14  0.680120  0.703890  0.806046       TR"
      ]
     },
     "execution_count": 5,
     "metadata": {},
     "output_type": "execute_result"
    }
   ],
   "source": [
    "mag = performance_all_participants[performance_all_participants[\"Sensor\"] == \"MAG\"].loc[:,[\"SSE Ti\", \"SSE Te\", \"SSE Tb\"]].reset_index(drop=True) \n",
    "pzt = performance_all_participants[performance_all_participants[\"Sensor\"] == \"PZT\"].loc[:,[\"SSE Ti\", \"SSE Te\", \"SSE Tb\"]].reset_index(drop=True)\n",
    "\n",
    "a = mag / pzt \n",
    "a[\"Activity\"] = performance_all_participants[performance_all_participants[\"Sensor\"] == \"MAG\"].reset_index(drop=True)[\"Activity\"]\n",
    "a"
   ]
  },
  {
   "cell_type": "markdown",
   "metadata": {},
   "source": [
    "### Overall RP analysis"
   ]
  },
  {
   "cell_type": "code",
   "execution_count": 6,
   "metadata": {},
   "outputs": [
    {
     "data": {
      "text/plain": [
       "dict_keys(['MAG', 'Airflow', 'PZT'])"
      ]
     },
     "execution_count": 6,
     "metadata": {},
     "output_type": "execute_result"
    }
   ],
   "source": [
    "# Transform overview from participant specific into all participants\n",
    "overview_all = transform_overview_on_overall(overview)\n",
    "overview_all.keys()"
   ]
  },
  {
   "cell_type": "code",
   "execution_count": 7,
   "metadata": {},
   "outputs": [
    {
     "data": {
      "text/html": [
       "<div>\n",
       "<style scoped>\n",
       "    .dataframe tbody tr th:only-of-type {\n",
       "        vertical-align: middle;\n",
       "    }\n",
       "\n",
       "    .dataframe tbody tr th {\n",
       "        vertical-align: top;\n",
       "    }\n",
       "\n",
       "    .dataframe thead th {\n",
       "        text-align: right;\n",
       "    }\n",
       "</style>\n",
       "<table border=\"1\" class=\"dataframe\">\n",
       "  <thead>\n",
       "    <tr style=\"text-align: right;\">\n",
       "      <th></th>\n",
       "      <th>Sensor</th>\n",
       "      <th>MAE Ti (s)</th>\n",
       "      <th>MRE Ti (%)</th>\n",
       "      <th>R^2 Ti</th>\n",
       "      <th>SSE Ti</th>\n",
       "      <th>MAE Te (s)</th>\n",
       "      <th>MRE Te (%)</th>\n",
       "      <th>R^2 Te</th>\n",
       "      <th>SSE Te</th>\n",
       "      <th>MAE Tb (s)</th>\n",
       "      <th>MRE Tb (%)</th>\n",
       "      <th>R^2 Tb</th>\n",
       "      <th>SSE Tb</th>\n",
       "    </tr>\n",
       "  </thead>\n",
       "  <tbody>\n",
       "    <tr>\n",
       "      <th>0</th>\n",
       "      <td>MAG</td>\n",
       "      <td>0.39 , 0.43</td>\n",
       "      <td>19.4 , 18.79</td>\n",
       "      <td>0.74</td>\n",
       "      <td>1120.71</td>\n",
       "      <td>0.39 , 0.43</td>\n",
       "      <td>18.2 , 17.7</td>\n",
       "      <td>0.75</td>\n",
       "      <td>1066.67</td>\n",
       "      <td>0.35 , 0.46</td>\n",
       "      <td>8.26 , 10.13</td>\n",
       "      <td>0.90</td>\n",
       "      <td>1099.34</td>\n",
       "    </tr>\n",
       "    <tr>\n",
       "      <th>1</th>\n",
       "      <td>PZT</td>\n",
       "      <td>0.62 , 0.57</td>\n",
       "      <td>31.27 , 24.39</td>\n",
       "      <td>0.54</td>\n",
       "      <td>2374.50</td>\n",
       "      <td>0.64 , 0.61</td>\n",
       "      <td>29.56 , 23.81</td>\n",
       "      <td>0.62</td>\n",
       "      <td>2623.77</td>\n",
       "      <td>0.55 , 0.63</td>\n",
       "      <td>13.2 , 14.43</td>\n",
       "      <td>0.83</td>\n",
       "      <td>2232.64</td>\n",
       "    </tr>\n",
       "  </tbody>\n",
       "</table>\n",
       "</div>"
      ],
      "text/plain": [
       "  Sensor   MAE Ti (s)     MRE Ti (%)  R^2 Ti   SSE Ti   MAE Te (s)  \\\n",
       "0    MAG  0.39 , 0.43   19.4 , 18.79    0.74  1120.71  0.39 , 0.43   \n",
       "1    PZT  0.62 , 0.57  31.27 , 24.39    0.54  2374.50  0.64 , 0.61   \n",
       "\n",
       "      MRE Te (%)  R^2 Te   SSE Te   MAE Tb (s)    MRE Tb (%)  R^2 Tb   SSE Tb  \n",
       "0    18.2 , 17.7    0.75  1066.67  0.35 , 0.46  8.26 , 10.13    0.90  1099.34  \n",
       "1  29.56 , 23.81    0.62  2623.77  0.55 , 0.63  13.2 , 14.43    0.83  2232.64  "
      ]
     },
     "execution_count": 7,
     "metadata": {},
     "output_type": "execute_result"
    }
   ],
   "source": [
    "get_breath_parameters_performance(overview_all, target=None)"
   ]
  },
  {
   "cell_type": "code",
   "execution_count": 8,
   "metadata": {},
   "outputs": [
    {
     "data": {
      "text/html": [
       "<div>\n",
       "<style scoped>\n",
       "    .dataframe tbody tr th:only-of-type {\n",
       "        vertical-align: middle;\n",
       "    }\n",
       "\n",
       "    .dataframe tbody tr th {\n",
       "        vertical-align: top;\n",
       "    }\n",
       "\n",
       "    .dataframe thead th {\n",
       "        text-align: right;\n",
       "    }\n",
       "</style>\n",
       "<table border=\"1\" class=\"dataframe\">\n",
       "  <thead>\n",
       "    <tr style=\"text-align: right;\">\n",
       "      <th></th>\n",
       "      <th>ID</th>\n",
       "      <th>Activity</th>\n",
       "      <th>Sensor</th>\n",
       "      <th>MAE Ti (s)</th>\n",
       "      <th>MRE Ti (%)</th>\n",
       "      <th>R^2 Ti</th>\n",
       "      <th>SSE Ti</th>\n",
       "      <th>MAE Te (s)</th>\n",
       "      <th>MRE Te (%)</th>\n",
       "      <th>R^2 Te</th>\n",
       "      <th>SSE Te</th>\n",
       "      <th>MAE Tb (s)</th>\n",
       "      <th>MRE Tb (%)</th>\n",
       "      <th>R^2 Tb</th>\n",
       "      <th>SSE Tb</th>\n",
       "    </tr>\n",
       "  </thead>\n",
       "  <tbody>\n",
       "    <tr>\n",
       "      <th>0</th>\n",
       "      <td>7OYX</td>\n",
       "      <td>SNB</td>\n",
       "      <td>MAG</td>\n",
       "      <td>0.22 , 0.27</td>\n",
       "      <td>11.09 , 13.26</td>\n",
       "      <td>0.76</td>\n",
       "      <td>1.62</td>\n",
       "      <td>0.23 , 0.27</td>\n",
       "      <td>10.04 , 11.73</td>\n",
       "      <td>0.71</td>\n",
       "      <td>1.63</td>\n",
       "      <td>0.35 , 0.3</td>\n",
       "      <td>8.8 , 9.34</td>\n",
       "      <td>0.81</td>\n",
       "      <td>2.71</td>\n",
       "    </tr>\n",
       "    <tr>\n",
       "      <th>1</th>\n",
       "      <td>7OYX</td>\n",
       "      <td>SNB</td>\n",
       "      <td>PZT</td>\n",
       "      <td>0.45 , 0.3</td>\n",
       "      <td>18.95 , 10.97</td>\n",
       "      <td>0.46</td>\n",
       "      <td>3.69</td>\n",
       "      <td>0.52 , 0.33</td>\n",
       "      <td>23.35 , 15.44</td>\n",
       "      <td>0.71</td>\n",
       "      <td>3.87</td>\n",
       "      <td>0.42 , 0.46</td>\n",
       "      <td>10.23 , 12.44</td>\n",
       "      <td>0.76</td>\n",
       "      <td>4.72</td>\n",
       "    </tr>\n",
       "    <tr>\n",
       "      <th>2</th>\n",
       "      <td>7OYX</td>\n",
       "      <td>SGB</td>\n",
       "      <td>MAG</td>\n",
       "      <td>0.58 , 0.48</td>\n",
       "      <td>13.31 , 10.1</td>\n",
       "      <td>0.93</td>\n",
       "      <td>0.52</td>\n",
       "      <td>0.76 , 0.6</td>\n",
       "      <td>12.95 , 10.75</td>\n",
       "      <td>0.84</td>\n",
       "      <td>1.12</td>\n",
       "      <td>0.22 , 0.15</td>\n",
       "      <td>2.1 , 1.34</td>\n",
       "      <td>0.87</td>\n",
       "      <td>0.31</td>\n",
       "    </tr>\n",
       "    <tr>\n",
       "      <th>3</th>\n",
       "      <td>7OYX</td>\n",
       "      <td>SGB</td>\n",
       "      <td>PZT</td>\n",
       "      <td>0.71 , 0.79</td>\n",
       "      <td>17.5 , 19.9</td>\n",
       "      <td>0.25</td>\n",
       "      <td>4.50</td>\n",
       "      <td>1.18 , 1.61</td>\n",
       "      <td>19.89 , 28.12</td>\n",
       "      <td>0.22</td>\n",
       "      <td>15.40</td>\n",
       "      <td>0.18 , 0.12</td>\n",
       "      <td>1.69 , 1.01</td>\n",
       "      <td>0.91</td>\n",
       "      <td>0.08</td>\n",
       "    </tr>\n",
       "    <tr>\n",
       "      <th>4</th>\n",
       "      <td>7OYX</td>\n",
       "      <td>MIXB</td>\n",
       "      <td>MAG</td>\n",
       "      <td>0.1 , 0.08</td>\n",
       "      <td>5.26 , 2.66</td>\n",
       "      <td>0.98</td>\n",
       "      <td>0.10</td>\n",
       "      <td>0.11 , 0.15</td>\n",
       "      <td>4.48 , 3.69</td>\n",
       "      <td>0.99</td>\n",
       "      <td>0.05</td>\n",
       "      <td>0.11 , 0.06</td>\n",
       "      <td>3.11 , 1.53</td>\n",
       "      <td>0.99</td>\n",
       "      <td>0.11</td>\n",
       "    </tr>\n",
       "    <tr>\n",
       "      <th>...</th>\n",
       "      <td>...</td>\n",
       "      <td>...</td>\n",
       "      <td>...</td>\n",
       "      <td>...</td>\n",
       "      <td>...</td>\n",
       "      <td>...</td>\n",
       "      <td>...</td>\n",
       "      <td>...</td>\n",
       "      <td>...</td>\n",
       "      <td>...</td>\n",
       "      <td>...</td>\n",
       "      <td>...</td>\n",
       "      <td>...</td>\n",
       "      <td>...</td>\n",
       "      <td>...</td>\n",
       "    </tr>\n",
       "    <tr>\n",
       "      <th>473</th>\n",
       "      <td>D4GQ</td>\n",
       "      <td>UAR</td>\n",
       "      <td>PZT</td>\n",
       "      <td>0.88 , 0.73</td>\n",
       "      <td>31.28 , 33.31</td>\n",
       "      <td>0.00</td>\n",
       "      <td>7.35</td>\n",
       "      <td>0.93 , 0.55</td>\n",
       "      <td>34.29 , 19.8</td>\n",
       "      <td>0.07</td>\n",
       "      <td>11.58</td>\n",
       "      <td>0.6 , 0.44</td>\n",
       "      <td>11.07 , 9.66</td>\n",
       "      <td>0.54</td>\n",
       "      <td>4.26</td>\n",
       "    </tr>\n",
       "    <tr>\n",
       "      <th>474</th>\n",
       "      <td>D4GQ</td>\n",
       "      <td>SE</td>\n",
       "      <td>MAG</td>\n",
       "      <td>0.49 , 0.27</td>\n",
       "      <td>17.52 , 9.51</td>\n",
       "      <td>0.92</td>\n",
       "      <td>0.78</td>\n",
       "      <td>0.44 , 0.32</td>\n",
       "      <td>15.19 , 10.38</td>\n",
       "      <td>0.84</td>\n",
       "      <td>0.82</td>\n",
       "      <td>0.23 , 0.17</td>\n",
       "      <td>3.97 , 2.85</td>\n",
       "      <td>0.96</td>\n",
       "      <td>0.70</td>\n",
       "    </tr>\n",
       "    <tr>\n",
       "      <th>475</th>\n",
       "      <td>D4GQ</td>\n",
       "      <td>SE</td>\n",
       "      <td>PZT</td>\n",
       "      <td>0.44 , 0.33</td>\n",
       "      <td>15.11 , 12.86</td>\n",
       "      <td>0.52</td>\n",
       "      <td>2.54</td>\n",
       "      <td>0.81 , 0.54</td>\n",
       "      <td>30.27 , 22.11</td>\n",
       "      <td>0.03</td>\n",
       "      <td>6.07</td>\n",
       "      <td>0.58 , 0.48</td>\n",
       "      <td>9.13 , 6.43</td>\n",
       "      <td>0.47</td>\n",
       "      <td>4.04</td>\n",
       "    </tr>\n",
       "    <tr>\n",
       "      <th>476</th>\n",
       "      <td>D4GQ</td>\n",
       "      <td>SS</td>\n",
       "      <td>MAG</td>\n",
       "      <td>0.64 , 0.47</td>\n",
       "      <td>21.79 , 18.77</td>\n",
       "      <td>0.70</td>\n",
       "      <td>5.05</td>\n",
       "      <td>0.62 , 0.35</td>\n",
       "      <td>22.77 , 11.11</td>\n",
       "      <td>0.60</td>\n",
       "      <td>4.14</td>\n",
       "      <td>0.58 , 0.51</td>\n",
       "      <td>10.14 , 10.07</td>\n",
       "      <td>0.75</td>\n",
       "      <td>5.08</td>\n",
       "    </tr>\n",
       "    <tr>\n",
       "      <th>477</th>\n",
       "      <td>D4GQ</td>\n",
       "      <td>SS</td>\n",
       "      <td>PZT</td>\n",
       "      <td>0.79 , 0.52</td>\n",
       "      <td>25.96 , 20.52</td>\n",
       "      <td>0.71</td>\n",
       "      <td>7.00</td>\n",
       "      <td>0.76 , 0.38</td>\n",
       "      <td>28.34 , 13.1</td>\n",
       "      <td>0.54</td>\n",
       "      <td>5.92</td>\n",
       "      <td>0.56 , 0.37</td>\n",
       "      <td>9.78 , 8.27</td>\n",
       "      <td>0.80</td>\n",
       "      <td>3.76</td>\n",
       "    </tr>\n",
       "  </tbody>\n",
       "</table>\n",
       "<p>478 rows × 15 columns</p>\n",
       "</div>"
      ],
      "text/plain": [
       "       ID Activity Sensor   MAE Ti (s)     MRE Ti (%)  R^2 Ti  SSE Ti  \\\n",
       "0    7OYX      SNB    MAG  0.22 , 0.27  11.09 , 13.26    0.76    1.62   \n",
       "1    7OYX      SNB    PZT   0.45 , 0.3  18.95 , 10.97    0.46    3.69   \n",
       "2    7OYX      SGB    MAG  0.58 , 0.48   13.31 , 10.1    0.93    0.52   \n",
       "3    7OYX      SGB    PZT  0.71 , 0.79    17.5 , 19.9    0.25    4.50   \n",
       "4    7OYX     MIXB    MAG   0.1 , 0.08    5.26 , 2.66    0.98    0.10   \n",
       "..    ...      ...    ...          ...            ...     ...     ...   \n",
       "473  D4GQ      UAR    PZT  0.88 , 0.73  31.28 , 33.31    0.00    7.35   \n",
       "474  D4GQ       SE    MAG  0.49 , 0.27   17.52 , 9.51    0.92    0.78   \n",
       "475  D4GQ       SE    PZT  0.44 , 0.33  15.11 , 12.86    0.52    2.54   \n",
       "476  D4GQ       SS    MAG  0.64 , 0.47  21.79 , 18.77    0.70    5.05   \n",
       "477  D4GQ       SS    PZT  0.79 , 0.52  25.96 , 20.52    0.71    7.00   \n",
       "\n",
       "      MAE Te (s)     MRE Te (%)  R^2 Te  SSE Te   MAE Tb (s)     MRE Tb (%)  \\\n",
       "0    0.23 , 0.27  10.04 , 11.73    0.71    1.63   0.35 , 0.3     8.8 , 9.34   \n",
       "1    0.52 , 0.33  23.35 , 15.44    0.71    3.87  0.42 , 0.46  10.23 , 12.44   \n",
       "2     0.76 , 0.6  12.95 , 10.75    0.84    1.12  0.22 , 0.15     2.1 , 1.34   \n",
       "3    1.18 , 1.61  19.89 , 28.12    0.22   15.40  0.18 , 0.12    1.69 , 1.01   \n",
       "4    0.11 , 0.15    4.48 , 3.69    0.99    0.05  0.11 , 0.06    3.11 , 1.53   \n",
       "..           ...            ...     ...     ...          ...            ...   \n",
       "473  0.93 , 0.55   34.29 , 19.8    0.07   11.58   0.6 , 0.44   11.07 , 9.66   \n",
       "474  0.44 , 0.32  15.19 , 10.38    0.84    0.82  0.23 , 0.17    3.97 , 2.85   \n",
       "475  0.81 , 0.54  30.27 , 22.11    0.03    6.07  0.58 , 0.48    9.13 , 6.43   \n",
       "476  0.62 , 0.35  22.77 , 11.11    0.60    4.14  0.58 , 0.51  10.14 , 10.07   \n",
       "477  0.76 , 0.38   28.34 , 13.1    0.54    5.92  0.56 , 0.37    9.78 , 8.27   \n",
       "\n",
       "     R^2 Tb  SSE Tb  \n",
       "0      0.81    2.71  \n",
       "1      0.76    4.72  \n",
       "2      0.87    0.31  \n",
       "3      0.91    0.08  \n",
       "4      0.99    0.11  \n",
       "..      ...     ...  \n",
       "473    0.54    4.26  \n",
       "474    0.96    0.70  \n",
       "475    0.47    4.04  \n",
       "476    0.75    5.08  \n",
       "477    0.80    3.76  \n",
       "\n",
       "[478 rows x 15 columns]"
      ]
     },
     "execution_count": 8,
     "metadata": {},
     "output_type": "execute_result"
    }
   ],
   "source": [
    "rp_detection_all = get_breath_parameters_performance(overview, target=\"both\")\n",
    "rp_detection_all"
   ]
  },
  {
   "cell_type": "code",
   "execution_count": 25,
   "metadata": {},
   "outputs": [
    {
     "data": {
      "text/html": [
       "<div>\n",
       "<style scoped>\n",
       "    .dataframe tbody tr th:only-of-type {\n",
       "        vertical-align: middle;\n",
       "    }\n",
       "\n",
       "    .dataframe tbody tr th {\n",
       "        vertical-align: top;\n",
       "    }\n",
       "\n",
       "    .dataframe thead th {\n",
       "        text-align: right;\n",
       "    }\n",
       "</style>\n",
       "<table border=\"1\" class=\"dataframe\">\n",
       "  <thead>\n",
       "    <tr style=\"text-align: right;\">\n",
       "      <th></th>\n",
       "      <th>ID</th>\n",
       "      <th>Activity</th>\n",
       "      <th>Sensor</th>\n",
       "      <th>MAE Ti (s)</th>\n",
       "      <th>MRE Ti (%)</th>\n",
       "      <th>R^2 Ti</th>\n",
       "      <th>SSE Ti</th>\n",
       "      <th>MAE Te (s)</th>\n",
       "      <th>MRE Te (%)</th>\n",
       "      <th>R^2 Te</th>\n",
       "      <th>SSE Te</th>\n",
       "      <th>MAE Tb (s)</th>\n",
       "      <th>MRE Tb (%)</th>\n",
       "      <th>R^2 Tb</th>\n",
       "      <th>SSE Tb</th>\n",
       "    </tr>\n",
       "  </thead>\n",
       "  <tbody>\n",
       "    <tr>\n",
       "      <th>0</th>\n",
       "      <td>7OYX</td>\n",
       "      <td>SNB</td>\n",
       "      <td>MAG</td>\n",
       "      <td>0.22 , 0.27</td>\n",
       "      <td>11.09 , 13.26</td>\n",
       "      <td>0.76</td>\n",
       "      <td>1.62</td>\n",
       "      <td>0.23 , 0.27</td>\n",
       "      <td>10.04 , 11.73</td>\n",
       "      <td>0.71</td>\n",
       "      <td>1.63</td>\n",
       "      <td>0.35 , 0.3</td>\n",
       "      <td>8.8 , 9.34</td>\n",
       "      <td>0.81</td>\n",
       "      <td>2.71</td>\n",
       "    </tr>\n",
       "    <tr>\n",
       "      <th>2</th>\n",
       "      <td>7OYX</td>\n",
       "      <td>SGB</td>\n",
       "      <td>MAG</td>\n",
       "      <td>0.58 , 0.48</td>\n",
       "      <td>13.31 , 10.1</td>\n",
       "      <td>0.93</td>\n",
       "      <td>0.52</td>\n",
       "      <td>0.76 , 0.6</td>\n",
       "      <td>12.95 , 10.75</td>\n",
       "      <td>0.84</td>\n",
       "      <td>1.12</td>\n",
       "      <td>0.22 , 0.15</td>\n",
       "      <td>2.1 , 1.34</td>\n",
       "      <td>0.87</td>\n",
       "      <td>0.31</td>\n",
       "    </tr>\n",
       "    <tr>\n",
       "      <th>4</th>\n",
       "      <td>7OYX</td>\n",
       "      <td>MIXB</td>\n",
       "      <td>MAG</td>\n",
       "      <td>0.1 , 0.08</td>\n",
       "      <td>5.26 , 2.66</td>\n",
       "      <td>0.98</td>\n",
       "      <td>0.10</td>\n",
       "      <td>0.11 , 0.15</td>\n",
       "      <td>4.48 , 3.69</td>\n",
       "      <td>0.99</td>\n",
       "      <td>0.05</td>\n",
       "      <td>0.11 , 0.06</td>\n",
       "      <td>3.11 , 1.53</td>\n",
       "      <td>0.99</td>\n",
       "      <td>0.11</td>\n",
       "    </tr>\n",
       "    <tr>\n",
       "      <th>6</th>\n",
       "      <td>7OYX</td>\n",
       "      <td>STNB</td>\n",
       "      <td>MAG</td>\n",
       "      <td>0.26 , 0.14</td>\n",
       "      <td>14.96 , 6.5</td>\n",
       "      <td>0.18</td>\n",
       "      <td>0.60</td>\n",
       "      <td>0.28 , 0.15</td>\n",
       "      <td>15.44 , 7.95</td>\n",
       "      <td>0.01</td>\n",
       "      <td>1.20</td>\n",
       "      <td>0.24 , 0.35</td>\n",
       "      <td>6.47 , 9.25</td>\n",
       "      <td>0.03</td>\n",
       "      <td>2.56</td>\n",
       "    </tr>\n",
       "    <tr>\n",
       "      <th>8</th>\n",
       "      <td>7OYX</td>\n",
       "      <td>MCH</td>\n",
       "      <td>MAG</td>\n",
       "      <td>0.62 , 0.6</td>\n",
       "      <td>18.84 , 15.17</td>\n",
       "      <td>0.10</td>\n",
       "      <td>4.33</td>\n",
       "      <td>0.63 , 0.55</td>\n",
       "      <td>22.15 , 19.71</td>\n",
       "      <td>0.31</td>\n",
       "      <td>6.41</td>\n",
       "      <td>1.05 , 0.82</td>\n",
       "      <td>17.02 , 13.23</td>\n",
       "      <td>0.29</td>\n",
       "      <td>10.97</td>\n",
       "    </tr>\n",
       "    <tr>\n",
       "      <th>...</th>\n",
       "      <td>...</td>\n",
       "      <td>...</td>\n",
       "      <td>...</td>\n",
       "      <td>...</td>\n",
       "      <td>...</td>\n",
       "      <td>...</td>\n",
       "      <td>...</td>\n",
       "      <td>...</td>\n",
       "      <td>...</td>\n",
       "      <td>...</td>\n",
       "      <td>...</td>\n",
       "      <td>...</td>\n",
       "      <td>...</td>\n",
       "      <td>...</td>\n",
       "      <td>...</td>\n",
       "    </tr>\n",
       "    <tr>\n",
       "      <th>468</th>\n",
       "      <td>D4GQ</td>\n",
       "      <td>ALR</td>\n",
       "      <td>MAG</td>\n",
       "      <td>1.3 , 0.76</td>\n",
       "      <td>44.79 , 49.12</td>\n",
       "      <td>0.92</td>\n",
       "      <td>11.25</td>\n",
       "      <td>1.17 , 0.58</td>\n",
       "      <td>39.81 , 26.27</td>\n",
       "      <td>0.90</td>\n",
       "      <td>7.77</td>\n",
       "      <td>1.78 , 1.32</td>\n",
       "      <td>33.46 , 31.13</td>\n",
       "      <td>0.89</td>\n",
       "      <td>26.66</td>\n",
       "    </tr>\n",
       "    <tr>\n",
       "      <th>470</th>\n",
       "      <td>D4GQ</td>\n",
       "      <td>UAL</td>\n",
       "      <td>MAG</td>\n",
       "      <td>0.39 , 0.36</td>\n",
       "      <td>14.29 , 12.13</td>\n",
       "      <td>0.50</td>\n",
       "      <td>2.77</td>\n",
       "      <td>0.53 , 0.28</td>\n",
       "      <td>20.54 , 11.76</td>\n",
       "      <td>0.54</td>\n",
       "      <td>3.59</td>\n",
       "      <td>0.5 , 0.44</td>\n",
       "      <td>8.94 , 7.44</td>\n",
       "      <td>0.72</td>\n",
       "      <td>4.10</td>\n",
       "    </tr>\n",
       "    <tr>\n",
       "      <th>472</th>\n",
       "      <td>D4GQ</td>\n",
       "      <td>UAR</td>\n",
       "      <td>MAG</td>\n",
       "      <td>0.54 , 0.46</td>\n",
       "      <td>19.26 , 16.85</td>\n",
       "      <td>0.57</td>\n",
       "      <td>4.66</td>\n",
       "      <td>0.7 , 0.58</td>\n",
       "      <td>26.08 , 21.2</td>\n",
       "      <td>0.00</td>\n",
       "      <td>5.32</td>\n",
       "      <td>0.75 , 0.58</td>\n",
       "      <td>12.72 , 10.26</td>\n",
       "      <td>0.66</td>\n",
       "      <td>7.40</td>\n",
       "    </tr>\n",
       "    <tr>\n",
       "      <th>474</th>\n",
       "      <td>D4GQ</td>\n",
       "      <td>SE</td>\n",
       "      <td>MAG</td>\n",
       "      <td>0.49 , 0.27</td>\n",
       "      <td>17.52 , 9.51</td>\n",
       "      <td>0.92</td>\n",
       "      <td>0.78</td>\n",
       "      <td>0.44 , 0.32</td>\n",
       "      <td>15.19 , 10.38</td>\n",
       "      <td>0.84</td>\n",
       "      <td>0.82</td>\n",
       "      <td>0.23 , 0.17</td>\n",
       "      <td>3.97 , 2.85</td>\n",
       "      <td>0.96</td>\n",
       "      <td>0.70</td>\n",
       "    </tr>\n",
       "    <tr>\n",
       "      <th>476</th>\n",
       "      <td>D4GQ</td>\n",
       "      <td>SS</td>\n",
       "      <td>MAG</td>\n",
       "      <td>0.64 , 0.47</td>\n",
       "      <td>21.79 , 18.77</td>\n",
       "      <td>0.70</td>\n",
       "      <td>5.05</td>\n",
       "      <td>0.62 , 0.35</td>\n",
       "      <td>22.77 , 11.11</td>\n",
       "      <td>0.60</td>\n",
       "      <td>4.14</td>\n",
       "      <td>0.58 , 0.51</td>\n",
       "      <td>10.14 , 10.07</td>\n",
       "      <td>0.75</td>\n",
       "      <td>5.08</td>\n",
       "    </tr>\n",
       "  </tbody>\n",
       "</table>\n",
       "<p>239 rows × 15 columns</p>\n",
       "</div>"
      ],
      "text/plain": [
       "       ID Activity Sensor   MAE Ti (s)     MRE Ti (%)  R^2 Ti  SSE Ti  \\\n",
       "0    7OYX      SNB    MAG  0.22 , 0.27  11.09 , 13.26    0.76    1.62   \n",
       "2    7OYX      SGB    MAG  0.58 , 0.48   13.31 , 10.1    0.93    0.52   \n",
       "4    7OYX     MIXB    MAG   0.1 , 0.08    5.26 , 2.66    0.98    0.10   \n",
       "6    7OYX     STNB    MAG  0.26 , 0.14    14.96 , 6.5    0.18    0.60   \n",
       "8    7OYX      MCH    MAG   0.62 , 0.6  18.84 , 15.17    0.10    4.33   \n",
       "..    ...      ...    ...          ...            ...     ...     ...   \n",
       "468  D4GQ      ALR    MAG   1.3 , 0.76  44.79 , 49.12    0.92   11.25   \n",
       "470  D4GQ      UAL    MAG  0.39 , 0.36  14.29 , 12.13    0.50    2.77   \n",
       "472  D4GQ      UAR    MAG  0.54 , 0.46  19.26 , 16.85    0.57    4.66   \n",
       "474  D4GQ       SE    MAG  0.49 , 0.27   17.52 , 9.51    0.92    0.78   \n",
       "476  D4GQ       SS    MAG  0.64 , 0.47  21.79 , 18.77    0.70    5.05   \n",
       "\n",
       "      MAE Te (s)     MRE Te (%)  R^2 Te  SSE Te   MAE Tb (s)     MRE Tb (%)  \\\n",
       "0    0.23 , 0.27  10.04 , 11.73    0.71    1.63   0.35 , 0.3     8.8 , 9.34   \n",
       "2     0.76 , 0.6  12.95 , 10.75    0.84    1.12  0.22 , 0.15     2.1 , 1.34   \n",
       "4    0.11 , 0.15    4.48 , 3.69    0.99    0.05  0.11 , 0.06    3.11 , 1.53   \n",
       "6    0.28 , 0.15   15.44 , 7.95    0.01    1.20  0.24 , 0.35    6.47 , 9.25   \n",
       "8    0.63 , 0.55  22.15 , 19.71    0.31    6.41  1.05 , 0.82  17.02 , 13.23   \n",
       "..           ...            ...     ...     ...          ...            ...   \n",
       "468  1.17 , 0.58  39.81 , 26.27    0.90    7.77  1.78 , 1.32  33.46 , 31.13   \n",
       "470  0.53 , 0.28  20.54 , 11.76    0.54    3.59   0.5 , 0.44    8.94 , 7.44   \n",
       "472   0.7 , 0.58   26.08 , 21.2    0.00    5.32  0.75 , 0.58  12.72 , 10.26   \n",
       "474  0.44 , 0.32  15.19 , 10.38    0.84    0.82  0.23 , 0.17    3.97 , 2.85   \n",
       "476  0.62 , 0.35  22.77 , 11.11    0.60    4.14  0.58 , 0.51  10.14 , 10.07   \n",
       "\n",
       "     R^2 Tb  SSE Tb  \n",
       "0      0.81    2.71  \n",
       "2      0.87    0.31  \n",
       "4      0.99    0.11  \n",
       "6      0.03    2.56  \n",
       "8      0.29   10.97  \n",
       "..      ...     ...  \n",
       "468    0.89   26.66  \n",
       "470    0.72    4.10  \n",
       "472    0.66    7.40  \n",
       "474    0.96    0.70  \n",
       "476    0.75    5.08  \n",
       "\n",
       "[239 rows x 15 columns]"
      ]
     },
     "execution_count": 25,
     "metadata": {},
     "output_type": "execute_result"
    }
   ],
   "source": [
    "bp_mag = rp_detection_all[rp_detection_all[\"Sensor\"]==\"MAG\"]\n",
    "bp_pzt = rp_detection_all[rp_detection_all[\"Sensor\"]==\"PZT\"]"
   ]
  },
  {
   "cell_type": "code",
   "execution_count": 23,
   "metadata": {},
   "outputs": [
    {
     "data": {
      "application/vnd.plotly.v1+json": {
       "config": {
        "plotlyServerURL": "https://plot.ly"
       },
       "data": [
        {
         "marker": {
          "color": "#4179A0"
         },
         "type": "histogram",
         "x": [
          0.35,
          0.22,
          0.11,
          0.24,
          1.05,
          0.34,
          0.2,
          0.46,
          0.45,
          0.56,
          0.55,
          0.35,
          0.61,
          0.56,
          1.33,
          0.07,
          0.09,
          0.77,
          0.31,
          0.26,
          0.14,
          0.26,
          0.31,
          0.3,
          0.22,
          0.36,
          0.6,
          0.71,
          0.48,
          0.41,
          1.08,
          0.66,
          0.76,
          0.48,
          0.2,
          0.32,
          0.52,
          0.15,
          0.47,
          0.57,
          0.22,
          0.64,
          0.32,
          0.61,
          0.78,
          0.12,
          0.71,
          0.47,
          0.36,
          0.36,
          0.75,
          0.37,
          0.26,
          0.14,
          0.32,
          0.36,
          0.28,
          0.22,
          0.34,
          0.9,
          0.08,
          0.1,
          0.09,
          0.14,
          0.75,
          0.24,
          0.31,
          0.22,
          0.1,
          0.39,
          0.42,
          0.52,
          0.25,
          0.31,
          0.62,
          0.2,
          0.13,
          1.15,
          0.69,
          0.68,
          0.53,
          0.5,
          0.76,
          0.97,
          0.45,
          0.52,
          0.68,
          0.55,
          0.52,
          0.47,
          0.14,
          0.08,
          0.48,
          0.28,
          0.23,
          0.2,
          0.2,
          0.09,
          0.16,
          0.24,
          0.23,
          0.26,
          0.54,
          0.55,
          0.71,
          0.69,
          0.08,
          0.74,
          0.41,
          0.12,
          0.08,
          0.61,
          0.06,
          0.09,
          0.18,
          0.54,
          0.12,
          0.13,
          0.62,
          0.15,
          0.1,
          1.13,
          0.3,
          0.18,
          0.3,
          0.05,
          0.05,
          0.11,
          0.07,
          0.08,
          0.13,
          0.06,
          0.03,
          0.27,
          0.12,
          0.26,
          0.89,
          0.13,
          0.87,
          0.14,
          0.11,
          0.15,
          0.06,
          0.12,
          0.29,
          1.17,
          0.48,
          0.35,
          0.92,
          0.06,
          0.1,
          0.25,
          0.1,
          0.48,
          0.27,
          0.09,
          0.39,
          0.06,
          0.05,
          0.09,
          0.13,
          0.09,
          0.13,
          0.17,
          1.08,
          0.52,
          1.07,
          0.7,
          1.36,
          0.45,
          0.29,
          0.14,
          0.06,
          0.16,
          0.23,
          0.42,
          0.2,
          0.34,
          1.12,
          0.27,
          0.88,
          1.28,
          0.37,
          0.37,
          0.45,
          0.15,
          0.05,
          0.05,
          0.1,
          0.13,
          0.13,
          0.06,
          0.06,
          0.28,
          0.58,
          0.71,
          0.6,
          0.76,
          0.5,
          0.44,
          0.76,
          0.4,
          0.24,
          0.2,
          0.11,
          0.19,
          0.31,
          0.47,
          0.81,
          0.1,
          0.6,
          0.51,
          0.15,
          0.63,
          0.54,
          0.2,
          0.27,
          0.37,
          0.15,
          0.23,
          0.28,
          0.3,
          0.46,
          0.39,
          1.17,
          1.75,
          1.73,
          0.85,
          0.4,
          0.91,
          0.3,
          0.81,
          0.93,
          0.76,
          1.78,
          0.5,
          0.75,
          0.23,
          0.58
         ],
         "xaxis": "x",
         "yaxis": "y"
        },
        {
         "marker": {
          "color": "#A0415D"
         },
         "mode": "markers",
         "type": "scatter",
         "x": [
          -1.7593305399424928,
          -1.4557771992490345,
          -1.283286988173613,
          -1.1600485748437643,
          -1.0628766424190048,
          -0.9819950891921347,
          -0.9123194645284001,
          -0.8508532274707474,
          -0.795675682072202,
          -0.7454788433689208,
          -0.6993301625545647,
          -0.6565403888876544,
          -0.6165850860518538,
          -0.5790555598062048,
          -0.5436268597765155,
          -0.5100361717214819,
          -0.47806778747524104,
          -0.44754238098750654,
          -0.41830918602938105,
          -0.3902401790157144,
          -0.3632256783922836,
          -0.3371709645933614,
          -0.3119936482428953,
          -0.2876215956210042,
          -0.26399127508868236,
          -0.24104642562325873,
          -0.2187369747374055,
          -0.19701815156073677,
          -0.17584975416742488,
          -0.15519553992687563,
          -0.13502271480504202,
          -0.1153015028790283,
          -0.0960047813505629,
          -0.07710776940736075,
          -0.05858776163570334,
          -0.04042389851243988,
          -0.022596967930547773,
          -0.0050892328349883,
          0.0121157190643153,
          0.029033106825083643,
          0.045677071802890934,
          0.06206077946989952,
          0.0781965094382856,
          0.09409573529842918,
          0.10976919563053544,
          0.12522695734097178,
          0.14047847230265365,
          0.15553262813570823,
          0.17039779384494502,
          0.18508186093024726,
          0.1995922805013366,
          0.2139360968568066,
          0.22811997792656102,
          0.24215024292508902,
          0.2560328875187987,
          0.2697736067727978,
          0.2833778161099352,
          0.2968506704869016,
          0.31019708196791396,
          0.3234217358555206,
          0.33652910551980264,
          0.3495234660513429,
          0.36240890684946503,
          0.37518934324508924,
          0.38786852724690235,
          0.40045005749017604,
          0.41293738845932315,
          0.42533383904800137,
          0.4376426005141385,
          0.44986674388155756,
          0.4620092268348156,
          0.47407290014937187,
          0.486060513695198,
          0.49797472204836624,
          0.5098180897419572,
          0.5215930961847739,
          0.5333021402737835,
          0.544947544723912,
          0.5565315601367463,
          0.5680563688278437,
          0.5795240884306638,
          0.5909367752936332,
          0.6022964276854783,
          0.6136049888227302,
          0.6248643497321806,
          0.6360763519600562,
          0.647242790138751,
          0.6583654144211245,
          0.6694459327916054,
          0.6804860132626507,
          0.6914872859644772,
          0.7024513451354029,
          0.7133797510196125,
          0.7242740316786814,
          0.7351356847227497,
          0.7459661789668384,
          0.7567669560174355,
          0.7675394317941358,
          0.7782849979908204,
          0.7890050234805703,
          0.7997008556682592,
          0.8103738217945284,
          0.8210252301946322,
          0.8316563715154476,
          0.8422685198937541,
          0.8528629340987337,
          0.8634408586414815,
          0.8740035248541862,
          0.884552151941512,
          0.895087948006601,
          0.9056121110540141,
          0.9161258299718346,
          0.9266302854950761,
          0.9371266511524663,
          0.9476160941986084,
          0.9580997765334688,
          0.9685788556110916,
          0.9790544853393942,
          0.9895278169728711,
          1,
          1.0104721830271288,
          1.0209455146606057,
          1.0314211443889083,
          1.041900223466531,
          1.0523839058013915,
          1.0628733488475337,
          1.0733697145049237,
          1.0838741700281656,
          1.0943878889459857,
          1.104912051993399,
          1.115447848058488,
          1.1259964751458138,
          1.1365591413585183,
          1.1471370659012663,
          1.1577314801062457,
          1.1683436284845523,
          1.1789747698053676,
          1.1896261782054718,
          1.2002991443317408,
          1.2109949765194299,
          1.2217150020091796,
          1.2324605682058642,
          1.2432330439825645,
          1.2540338210331616,
          1.2648643152772503,
          1.2757259683213187,
          1.2866202489803875,
          1.2975486548645974,
          1.3085127140355228,
          1.3195139867373495,
          1.3305540672083946,
          1.3416345855788756,
          1.352757209861249,
          1.363923648039944,
          1.3751356502678194,
          1.3863950111772696,
          1.3977035723145217,
          1.4090632247063666,
          1.4204759115693362,
          1.4319436311721563,
          1.4434684398632536,
          1.455052455276088,
          1.4666978597262164,
          1.4784069038152259,
          1.490181910258043,
          1.5020252779516334,
          1.513939486304802,
          1.525927099850628,
          1.5379907731651845,
          1.5501332561184422,
          1.5623573994858615,
          1.5746661609519985,
          1.5870626115406767,
          1.599549942509824,
          1.6121314727530978,
          1.6248106567549105,
          1.6375910931505349,
          1.6504765339486571,
          1.6634708944801972,
          1.676578264144479,
          1.6898029180320862,
          1.7031493295130982,
          1.7166221838900648,
          1.7302263932272022,
          1.7439671124812013,
          1.757849757074911,
          1.771880022073439,
          1.7860639031431935,
          1.8004077194986634,
          1.8149181390697526,
          1.829602206155055,
          1.8444673718642917,
          1.8595215276973458,
          1.874773042659028,
          1.8902308043694642,
          1.905904264701571,
          1.921803490561714,
          1.9379392205301005,
          1.9543229281971084,
          1.9709668931749165,
          1.9878842809356843,
          2.0050892328349885,
          2.0225969679305473,
          2.04042389851244,
          2.058587761635703,
          2.0771077694073607,
          2.0960047813505622,
          2.1153015028790283,
          2.135022714805042,
          2.1551955399268756,
          2.1758497541674244,
          2.197018151560737,
          2.2187369747374053,
          2.2410464256232587,
          2.263991275088682,
          2.2876215956210046,
          2.311993648242895,
          2.337170964593362,
          2.3632256783922836,
          2.3902401790157146,
          2.4183091860293806,
          2.4475423809875068,
          2.478067787475241,
          2.510036171721482,
          2.543626859776515,
          2.579055559806205,
          2.6165850860518534,
          2.6565403888876538,
          2.6993301625545643,
          2.7454788433689195,
          2.795675682072202,
          2.8508532274707465,
          2.9123194645284003,
          2.9819950891921336,
          3.062876642419005,
          3.160048574843763,
          3.283286988173613,
          3.455777199249032,
          3.7593305399424928
         ],
         "xaxis": "x2",
         "y": [
          0.03,
          0.05,
          0.05,
          0.05,
          0.05,
          0.05,
          0.06,
          0.06,
          0.06,
          0.06,
          0.06,
          0.06,
          0.06,
          0.06,
          0.07,
          0.07,
          0.08,
          0.08,
          0.08,
          0.08,
          0.08,
          0.09,
          0.09,
          0.09,
          0.09,
          0.09,
          0.09,
          0.09,
          0.1,
          0.1,
          0.1,
          0.1,
          0.1,
          0.1,
          0.1,
          0.11,
          0.11,
          0.11,
          0.11,
          0.12,
          0.12,
          0.12,
          0.12,
          0.12,
          0.13,
          0.13,
          0.13,
          0.13,
          0.13,
          0.13,
          0.13,
          0.13,
          0.14,
          0.14,
          0.14,
          0.14,
          0.14,
          0.14,
          0.15,
          0.15,
          0.15,
          0.15,
          0.15,
          0.15,
          0.16,
          0.16,
          0.17,
          0.18,
          0.18,
          0.19,
          0.2,
          0.2,
          0.2,
          0.2,
          0.2,
          0.2,
          0.2,
          0.2,
          0.22,
          0.22,
          0.22,
          0.22,
          0.22,
          0.23,
          0.23,
          0.23,
          0.23,
          0.23,
          0.24,
          0.24,
          0.24,
          0.24,
          0.25,
          0.25,
          0.26,
          0.26,
          0.26,
          0.26,
          0.26,
          0.27,
          0.27,
          0.27,
          0.27,
          0.28,
          0.28,
          0.28,
          0.28,
          0.29,
          0.29,
          0.3,
          0.3,
          0.3,
          0.3,
          0.3,
          0.31,
          0.31,
          0.31,
          0.31,
          0.31,
          0.32,
          0.32,
          0.32,
          0.34,
          0.34,
          0.34,
          0.35,
          0.35,
          0.35,
          0.36,
          0.36,
          0.36,
          0.36,
          0.37,
          0.37,
          0.37,
          0.37,
          0.39,
          0.39,
          0.39,
          0.4,
          0.4,
          0.41,
          0.41,
          0.42,
          0.42,
          0.44,
          0.45,
          0.45,
          0.45,
          0.45,
          0.46,
          0.46,
          0.47,
          0.47,
          0.47,
          0.47,
          0.48,
          0.48,
          0.48,
          0.48,
          0.48,
          0.5,
          0.5,
          0.5,
          0.51,
          0.52,
          0.52,
          0.52,
          0.52,
          0.52,
          0.53,
          0.54,
          0.54,
          0.54,
          0.55,
          0.55,
          0.55,
          0.56,
          0.56,
          0.57,
          0.58,
          0.58,
          0.6,
          0.6,
          0.6,
          0.61,
          0.61,
          0.61,
          0.62,
          0.62,
          0.63,
          0.64,
          0.66,
          0.68,
          0.68,
          0.69,
          0.69,
          0.7,
          0.71,
          0.71,
          0.71,
          0.71,
          0.74,
          0.75,
          0.75,
          0.75,
          0.76,
          0.76,
          0.76,
          0.76,
          0.76,
          0.77,
          0.78,
          0.81,
          0.81,
          0.85,
          0.87,
          0.88,
          0.89,
          0.9,
          0.91,
          0.92,
          0.93,
          0.97,
          1.05,
          1.07,
          1.08,
          1.08,
          1.12,
          1.13,
          1.15,
          1.17,
          1.17,
          1.28,
          1.33,
          1.36,
          1.73,
          1.75,
          1.78
         ],
         "yaxis": "y2"
        },
        {
         "line": {
          "color": "#44546A"
         },
         "mode": "lines",
         "type": "scatter",
         "x": [
          -1.7593305399424928,
          3.7593305399424928
         ],
         "xaxis": "x2",
         "y": [
          -0.44038374440114364,
          1.2656557109283404
         ],
         "yaxis": "y2"
        }
       ],
       "layout": {
        "annotations": [
         {
          "font": {
           "size": 16
          },
          "showarrow": false,
          "text": "Histogram",
          "x": 0.225,
          "xanchor": "center",
          "xref": "paper",
          "y": 1,
          "yanchor": "bottom",
          "yref": "paper"
         },
         {
          "font": {
           "size": 16
          },
          "showarrow": false,
          "text": "Quantile-Quantile Plot",
          "x": 0.775,
          "xanchor": "center",
          "xref": "paper",
          "y": 1,
          "yanchor": "bottom",
          "yref": "paper"
         }
        ],
        "height": 800,
        "showlegend": false,
        "template": {
         "data": {
          "bar": [
           {
            "error_x": {
             "color": "#2a3f5f"
            },
            "error_y": {
             "color": "#2a3f5f"
            },
            "marker": {
             "line": {
              "color": "white",
              "width": 0.5
             },
             "pattern": {
              "fillmode": "overlay",
              "size": 10,
              "solidity": 0.2
             }
            },
            "type": "bar"
           }
          ],
          "barpolar": [
           {
            "marker": {
             "line": {
              "color": "white",
              "width": 0.5
             },
             "pattern": {
              "fillmode": "overlay",
              "size": 10,
              "solidity": 0.2
             }
            },
            "type": "barpolar"
           }
          ],
          "carpet": [
           {
            "aaxis": {
             "endlinecolor": "#2a3f5f",
             "gridcolor": "#C8D4E3",
             "linecolor": "#C8D4E3",
             "minorgridcolor": "#C8D4E3",
             "startlinecolor": "#2a3f5f"
            },
            "baxis": {
             "endlinecolor": "#2a3f5f",
             "gridcolor": "#C8D4E3",
             "linecolor": "#C8D4E3",
             "minorgridcolor": "#C8D4E3",
             "startlinecolor": "#2a3f5f"
            },
            "type": "carpet"
           }
          ],
          "choropleth": [
           {
            "colorbar": {
             "outlinewidth": 0,
             "ticks": ""
            },
            "type": "choropleth"
           }
          ],
          "contour": [
           {
            "colorbar": {
             "outlinewidth": 0,
             "ticks": ""
            },
            "colorscale": [
             [
              0,
              "#0d0887"
             ],
             [
              0.1111111111111111,
              "#46039f"
             ],
             [
              0.2222222222222222,
              "#7201a8"
             ],
             [
              0.3333333333333333,
              "#9c179e"
             ],
             [
              0.4444444444444444,
              "#bd3786"
             ],
             [
              0.5555555555555556,
              "#d8576b"
             ],
             [
              0.6666666666666666,
              "#ed7953"
             ],
             [
              0.7777777777777778,
              "#fb9f3a"
             ],
             [
              0.8888888888888888,
              "#fdca26"
             ],
             [
              1,
              "#f0f921"
             ]
            ],
            "type": "contour"
           }
          ],
          "contourcarpet": [
           {
            "colorbar": {
             "outlinewidth": 0,
             "ticks": ""
            },
            "type": "contourcarpet"
           }
          ],
          "heatmap": [
           {
            "colorbar": {
             "outlinewidth": 0,
             "ticks": ""
            },
            "colorscale": [
             [
              0,
              "#0d0887"
             ],
             [
              0.1111111111111111,
              "#46039f"
             ],
             [
              0.2222222222222222,
              "#7201a8"
             ],
             [
              0.3333333333333333,
              "#9c179e"
             ],
             [
              0.4444444444444444,
              "#bd3786"
             ],
             [
              0.5555555555555556,
              "#d8576b"
             ],
             [
              0.6666666666666666,
              "#ed7953"
             ],
             [
              0.7777777777777778,
              "#fb9f3a"
             ],
             [
              0.8888888888888888,
              "#fdca26"
             ],
             [
              1,
              "#f0f921"
             ]
            ],
            "type": "heatmap"
           }
          ],
          "heatmapgl": [
           {
            "colorbar": {
             "outlinewidth": 0,
             "ticks": ""
            },
            "colorscale": [
             [
              0,
              "#0d0887"
             ],
             [
              0.1111111111111111,
              "#46039f"
             ],
             [
              0.2222222222222222,
              "#7201a8"
             ],
             [
              0.3333333333333333,
              "#9c179e"
             ],
             [
              0.4444444444444444,
              "#bd3786"
             ],
             [
              0.5555555555555556,
              "#d8576b"
             ],
             [
              0.6666666666666666,
              "#ed7953"
             ],
             [
              0.7777777777777778,
              "#fb9f3a"
             ],
             [
              0.8888888888888888,
              "#fdca26"
             ],
             [
              1,
              "#f0f921"
             ]
            ],
            "type": "heatmapgl"
           }
          ],
          "histogram": [
           {
            "marker": {
             "pattern": {
              "fillmode": "overlay",
              "size": 10,
              "solidity": 0.2
             }
            },
            "type": "histogram"
           }
          ],
          "histogram2d": [
           {
            "colorbar": {
             "outlinewidth": 0,
             "ticks": ""
            },
            "colorscale": [
             [
              0,
              "#0d0887"
             ],
             [
              0.1111111111111111,
              "#46039f"
             ],
             [
              0.2222222222222222,
              "#7201a8"
             ],
             [
              0.3333333333333333,
              "#9c179e"
             ],
             [
              0.4444444444444444,
              "#bd3786"
             ],
             [
              0.5555555555555556,
              "#d8576b"
             ],
             [
              0.6666666666666666,
              "#ed7953"
             ],
             [
              0.7777777777777778,
              "#fb9f3a"
             ],
             [
              0.8888888888888888,
              "#fdca26"
             ],
             [
              1,
              "#f0f921"
             ]
            ],
            "type": "histogram2d"
           }
          ],
          "histogram2dcontour": [
           {
            "colorbar": {
             "outlinewidth": 0,
             "ticks": ""
            },
            "colorscale": [
             [
              0,
              "#0d0887"
             ],
             [
              0.1111111111111111,
              "#46039f"
             ],
             [
              0.2222222222222222,
              "#7201a8"
             ],
             [
              0.3333333333333333,
              "#9c179e"
             ],
             [
              0.4444444444444444,
              "#bd3786"
             ],
             [
              0.5555555555555556,
              "#d8576b"
             ],
             [
              0.6666666666666666,
              "#ed7953"
             ],
             [
              0.7777777777777778,
              "#fb9f3a"
             ],
             [
              0.8888888888888888,
              "#fdca26"
             ],
             [
              1,
              "#f0f921"
             ]
            ],
            "type": "histogram2dcontour"
           }
          ],
          "mesh3d": [
           {
            "colorbar": {
             "outlinewidth": 0,
             "ticks": ""
            },
            "type": "mesh3d"
           }
          ],
          "parcoords": [
           {
            "line": {
             "colorbar": {
              "outlinewidth": 0,
              "ticks": ""
             }
            },
            "type": "parcoords"
           }
          ],
          "pie": [
           {
            "automargin": true,
            "type": "pie"
           }
          ],
          "scatter": [
           {
            "fillpattern": {
             "fillmode": "overlay",
             "size": 10,
             "solidity": 0.2
            },
            "type": "scatter"
           }
          ],
          "scatter3d": [
           {
            "line": {
             "colorbar": {
              "outlinewidth": 0,
              "ticks": ""
             }
            },
            "marker": {
             "colorbar": {
              "outlinewidth": 0,
              "ticks": ""
             }
            },
            "type": "scatter3d"
           }
          ],
          "scattercarpet": [
           {
            "marker": {
             "colorbar": {
              "outlinewidth": 0,
              "ticks": ""
             }
            },
            "type": "scattercarpet"
           }
          ],
          "scattergeo": [
           {
            "marker": {
             "colorbar": {
              "outlinewidth": 0,
              "ticks": ""
             }
            },
            "type": "scattergeo"
           }
          ],
          "scattergl": [
           {
            "marker": {
             "colorbar": {
              "outlinewidth": 0,
              "ticks": ""
             }
            },
            "type": "scattergl"
           }
          ],
          "scattermapbox": [
           {
            "marker": {
             "colorbar": {
              "outlinewidth": 0,
              "ticks": ""
             }
            },
            "type": "scattermapbox"
           }
          ],
          "scatterpolar": [
           {
            "marker": {
             "colorbar": {
              "outlinewidth": 0,
              "ticks": ""
             }
            },
            "type": "scatterpolar"
           }
          ],
          "scatterpolargl": [
           {
            "marker": {
             "colorbar": {
              "outlinewidth": 0,
              "ticks": ""
             }
            },
            "type": "scatterpolargl"
           }
          ],
          "scatterternary": [
           {
            "marker": {
             "colorbar": {
              "outlinewidth": 0,
              "ticks": ""
             }
            },
            "type": "scatterternary"
           }
          ],
          "surface": [
           {
            "colorbar": {
             "outlinewidth": 0,
             "ticks": ""
            },
            "colorscale": [
             [
              0,
              "#0d0887"
             ],
             [
              0.1111111111111111,
              "#46039f"
             ],
             [
              0.2222222222222222,
              "#7201a8"
             ],
             [
              0.3333333333333333,
              "#9c179e"
             ],
             [
              0.4444444444444444,
              "#bd3786"
             ],
             [
              0.5555555555555556,
              "#d8576b"
             ],
             [
              0.6666666666666666,
              "#ed7953"
             ],
             [
              0.7777777777777778,
              "#fb9f3a"
             ],
             [
              0.8888888888888888,
              "#fdca26"
             ],
             [
              1,
              "#f0f921"
             ]
            ],
            "type": "surface"
           }
          ],
          "table": [
           {
            "cells": {
             "fill": {
              "color": "#EBF0F8"
             },
             "line": {
              "color": "white"
             }
            },
            "header": {
             "fill": {
              "color": "#C8D4E3"
             },
             "line": {
              "color": "white"
             }
            },
            "type": "table"
           }
          ]
         },
         "layout": {
          "annotationdefaults": {
           "arrowcolor": "#2a3f5f",
           "arrowhead": 0,
           "arrowwidth": 1
          },
          "autotypenumbers": "strict",
          "coloraxis": {
           "colorbar": {
            "outlinewidth": 0,
            "ticks": ""
           }
          },
          "colorscale": {
           "diverging": [
            [
             0,
             "#8e0152"
            ],
            [
             0.1,
             "#c51b7d"
            ],
            [
             0.2,
             "#de77ae"
            ],
            [
             0.3,
             "#f1b6da"
            ],
            [
             0.4,
             "#fde0ef"
            ],
            [
             0.5,
             "#f7f7f7"
            ],
            [
             0.6,
             "#e6f5d0"
            ],
            [
             0.7,
             "#b8e186"
            ],
            [
             0.8,
             "#7fbc41"
            ],
            [
             0.9,
             "#4d9221"
            ],
            [
             1,
             "#276419"
            ]
           ],
           "sequential": [
            [
             0,
             "#0d0887"
            ],
            [
             0.1111111111111111,
             "#46039f"
            ],
            [
             0.2222222222222222,
             "#7201a8"
            ],
            [
             0.3333333333333333,
             "#9c179e"
            ],
            [
             0.4444444444444444,
             "#bd3786"
            ],
            [
             0.5555555555555556,
             "#d8576b"
            ],
            [
             0.6666666666666666,
             "#ed7953"
            ],
            [
             0.7777777777777778,
             "#fb9f3a"
            ],
            [
             0.8888888888888888,
             "#fdca26"
            ],
            [
             1,
             "#f0f921"
            ]
           ],
           "sequentialminus": [
            [
             0,
             "#0d0887"
            ],
            [
             0.1111111111111111,
             "#46039f"
            ],
            [
             0.2222222222222222,
             "#7201a8"
            ],
            [
             0.3333333333333333,
             "#9c179e"
            ],
            [
             0.4444444444444444,
             "#bd3786"
            ],
            [
             0.5555555555555556,
             "#d8576b"
            ],
            [
             0.6666666666666666,
             "#ed7953"
            ],
            [
             0.7777777777777778,
             "#fb9f3a"
            ],
            [
             0.8888888888888888,
             "#fdca26"
            ],
            [
             1,
             "#f0f921"
            ]
           ]
          },
          "colorway": [
           "#636efa",
           "#EF553B",
           "#00cc96",
           "#ab63fa",
           "#FFA15A",
           "#19d3f3",
           "#FF6692",
           "#B6E880",
           "#FF97FF",
           "#FECB52"
          ],
          "font": {
           "color": "#2a3f5f"
          },
          "geo": {
           "bgcolor": "white",
           "lakecolor": "white",
           "landcolor": "white",
           "showlakes": true,
           "showland": true,
           "subunitcolor": "#C8D4E3"
          },
          "hoverlabel": {
           "align": "left"
          },
          "hovermode": "closest",
          "mapbox": {
           "style": "light"
          },
          "paper_bgcolor": "white",
          "plot_bgcolor": "white",
          "polar": {
           "angularaxis": {
            "gridcolor": "#EBF0F8",
            "linecolor": "#EBF0F8",
            "ticks": ""
           },
           "bgcolor": "white",
           "radialaxis": {
            "gridcolor": "#EBF0F8",
            "linecolor": "#EBF0F8",
            "ticks": ""
           }
          },
          "scene": {
           "xaxis": {
            "backgroundcolor": "white",
            "gridcolor": "#DFE8F3",
            "gridwidth": 2,
            "linecolor": "#EBF0F8",
            "showbackground": true,
            "ticks": "",
            "zerolinecolor": "#EBF0F8"
           },
           "yaxis": {
            "backgroundcolor": "white",
            "gridcolor": "#DFE8F3",
            "gridwidth": 2,
            "linecolor": "#EBF0F8",
            "showbackground": true,
            "ticks": "",
            "zerolinecolor": "#EBF0F8"
           },
           "zaxis": {
            "backgroundcolor": "white",
            "gridcolor": "#DFE8F3",
            "gridwidth": 2,
            "linecolor": "#EBF0F8",
            "showbackground": true,
            "ticks": "",
            "zerolinecolor": "#EBF0F8"
           }
          },
          "shapedefaults": {
           "line": {
            "color": "#2a3f5f"
           }
          },
          "ternary": {
           "aaxis": {
            "gridcolor": "#DFE8F3",
            "linecolor": "#A2B1C6",
            "ticks": ""
           },
           "baxis": {
            "gridcolor": "#DFE8F3",
            "linecolor": "#A2B1C6",
            "ticks": ""
           },
           "bgcolor": "white",
           "caxis": {
            "gridcolor": "#DFE8F3",
            "linecolor": "#A2B1C6",
            "ticks": ""
           }
          },
          "title": {
           "x": 0.05
          },
          "xaxis": {
           "automargin": true,
           "gridcolor": "#EBF0F8",
           "linecolor": "#EBF0F8",
           "ticks": "",
           "title": {
            "standoff": 15
           },
           "zerolinecolor": "#EBF0F8",
           "zerolinewidth": 2
          },
          "yaxis": {
           "automargin": true,
           "gridcolor": "#EBF0F8",
           "linecolor": "#EBF0F8",
           "ticks": "",
           "title": {
            "standoff": 15
           },
           "zerolinecolor": "#EBF0F8",
           "zerolinewidth": 2
          }
         }
        },
        "title": {
         "text": "MAE Tb (s) sensor (All data, N=239)"
        },
        "width": 900,
        "xaxis": {
         "anchor": "y",
         "domain": [
          0,
          0.45
         ],
         "title": {
          "text": "Delay"
         },
         "zeroline": false
        },
        "xaxis2": {
         "anchor": "y2",
         "domain": [
          0.55,
          1
         ],
         "title": {
          "text": "Theoritical Quantities"
         },
         "zeroline": false
        },
        "yaxis": {
         "anchor": "x",
         "domain": [
          0,
          1
         ],
         "title": {
          "text": "Count"
         }
        },
        "yaxis2": {
         "anchor": "x2",
         "domain": [
          0,
          1
         ],
         "title": {
          "text": "Sample Quantities"
         }
        }
       }
      }
     },
     "metadata": {},
     "output_type": "display_data"
    },
    {
     "data": {
      "application/vnd.plotly.v1+json": {
       "config": {
        "plotlyServerURL": "https://plot.ly"
       },
       "data": [
        {
         "marker": {
          "color": "#4179A0"
         },
         "type": "histogram",
         "x": [
          0.42,
          0.18,
          0.23,
          0.2,
          0.97,
          1.21,
          0.59,
          0.93,
          0.76,
          1.04,
          1.19,
          1.53,
          0.83,
          0.92,
          0.59,
          0.26,
          0.16,
          0.34,
          0.62,
          0.59,
          0.55,
          0.43,
          0.33,
          0.66,
          0.58,
          0.56,
          0.85,
          0.95,
          0.61,
          0.52,
          0.13,
          0.16,
          1.38,
          0.33,
          0.1,
          0.22,
          0.11,
          0.1,
          0.2,
          0.23,
          0.13,
          0.18,
          0.24,
          0.72,
          0.42,
          0.19,
          0.23,
          0.48,
          0.47,
          0.64,
          1.01,
          0.31,
          0.93,
          0.65,
          0.74,
          1.33,
          1.36,
          1,
          0.18,
          0.42,
          0.51,
          0.4,
          0.48,
          0.52,
          0.58,
          0.6,
          0.65,
          0.68,
          0.59,
          0.8,
          1.19,
          0.86,
          0.8,
          1.21,
          0.6,
          0.32,
          0.24,
          0.82,
          0.82,
          0.66,
          0.61,
          1.3,
          0.42,
          0.53,
          0.47,
          0.6,
          0.39,
          0.57,
          0.31,
          0.97,
          0.23,
          0.31,
          0.65,
          0.98,
          0.16,
          0.53,
          0.38,
          0.09,
          0.27,
          0.27,
          0.12,
          0.67,
          0.35,
          0.36,
          0.36,
          0.63,
          1.07,
          1.66,
          0.82,
          0.65,
          1.06,
          0.28,
          0.74,
          0.71,
          1.53,
          1.18,
          0.78,
          0.73,
          0.67,
          0.37,
          0.6,
          1.34,
          0.67,
          0.3,
          0.59,
          0.31,
          0.31,
          0.21,
          0.35,
          0.23,
          0.26,
          0.13,
          0.07,
          0.38,
          0.42,
          0.2,
          0.34,
          0.26,
          0.84,
          0.3,
          0.19,
          0.31,
          0.18,
          0.25,
          0.29,
          1.31,
          0.85,
          0.51,
          1.13,
          0.73,
          0.73,
          2.14,
          0.88,
          0.8,
          1.05,
          0.53,
          0.76,
          0.09,
          0.52,
          0.12,
          0.34,
          0.29,
          0.26,
          0.36,
          0.5,
          1.48,
          1.83,
          2.14,
          1.48,
          1.27,
          1.2,
          0.75,
          0.6,
          0.66,
          0.82,
          1.21,
          0.87,
          2.02,
          0.75,
          0.31,
          0.29,
          1.02,
          0.2,
          0.73,
          0.56,
          0.25,
          0.35,
          0.2,
          0.23,
          0.2,
          0.31,
          0.46,
          0.1,
          0.17,
          1.2,
          0.81,
          0.34,
          1.37,
          1.32,
          0.71,
          0.64,
          0.64,
          0.63,
          0.51,
          0.5,
          0.48,
          0.35,
          0.67,
          1.28,
          0.4,
          0.54,
          0.75,
          0.69,
          0.5,
          0.6,
          1,
          0.74,
          0.26,
          0.65,
          0.55,
          0.49,
          0.34,
          0.81,
          1.23,
          0.3,
          0.46,
          0.45,
          1.79,
          0.59,
          0.48,
          0.16,
          0.52,
          0.46,
          0.45,
          0.45,
          0.26,
          0.6,
          0.58,
          0.56
         ],
         "xaxis": "x",
         "yaxis": "y"
        },
        {
         "marker": {
          "color": "#A0415D"
         },
         "mode": "markers",
         "type": "scatter",
         "x": [
          -1.7593305399424928,
          -1.4557771992490345,
          -1.283286988173613,
          -1.1600485748437643,
          -1.0628766424190048,
          -0.9819950891921347,
          -0.9123194645284001,
          -0.8508532274707474,
          -0.795675682072202,
          -0.7454788433689208,
          -0.6993301625545647,
          -0.6565403888876544,
          -0.6165850860518538,
          -0.5790555598062048,
          -0.5436268597765155,
          -0.5100361717214819,
          -0.47806778747524104,
          -0.44754238098750654,
          -0.41830918602938105,
          -0.3902401790157144,
          -0.3632256783922836,
          -0.3371709645933614,
          -0.3119936482428953,
          -0.2876215956210042,
          -0.26399127508868236,
          -0.24104642562325873,
          -0.2187369747374055,
          -0.19701815156073677,
          -0.17584975416742488,
          -0.15519553992687563,
          -0.13502271480504202,
          -0.1153015028790283,
          -0.0960047813505629,
          -0.07710776940736075,
          -0.05858776163570334,
          -0.04042389851243988,
          -0.022596967930547773,
          -0.0050892328349883,
          0.0121157190643153,
          0.029033106825083643,
          0.045677071802890934,
          0.06206077946989952,
          0.0781965094382856,
          0.09409573529842918,
          0.10976919563053544,
          0.12522695734097178,
          0.14047847230265365,
          0.15553262813570823,
          0.17039779384494502,
          0.18508186093024726,
          0.1995922805013366,
          0.2139360968568066,
          0.22811997792656102,
          0.24215024292508902,
          0.2560328875187987,
          0.2697736067727978,
          0.2833778161099352,
          0.2968506704869016,
          0.31019708196791396,
          0.3234217358555206,
          0.33652910551980264,
          0.3495234660513429,
          0.36240890684946503,
          0.37518934324508924,
          0.38786852724690235,
          0.40045005749017604,
          0.41293738845932315,
          0.42533383904800137,
          0.4376426005141385,
          0.44986674388155756,
          0.4620092268348156,
          0.47407290014937187,
          0.486060513695198,
          0.49797472204836624,
          0.5098180897419572,
          0.5215930961847739,
          0.5333021402737835,
          0.544947544723912,
          0.5565315601367463,
          0.5680563688278437,
          0.5795240884306638,
          0.5909367752936332,
          0.6022964276854783,
          0.6136049888227302,
          0.6248643497321806,
          0.6360763519600562,
          0.647242790138751,
          0.6583654144211245,
          0.6694459327916054,
          0.6804860132626507,
          0.6914872859644772,
          0.7024513451354029,
          0.7133797510196125,
          0.7242740316786814,
          0.7351356847227497,
          0.7459661789668384,
          0.7567669560174355,
          0.7675394317941358,
          0.7782849979908204,
          0.7890050234805703,
          0.7997008556682592,
          0.8103738217945284,
          0.8210252301946322,
          0.8316563715154476,
          0.8422685198937541,
          0.8528629340987337,
          0.8634408586414815,
          0.8740035248541862,
          0.884552151941512,
          0.895087948006601,
          0.9056121110540141,
          0.9161258299718346,
          0.9266302854950761,
          0.9371266511524663,
          0.9476160941986084,
          0.9580997765334688,
          0.9685788556110916,
          0.9790544853393942,
          0.9895278169728711,
          1,
          1.0104721830271288,
          1.0209455146606057,
          1.0314211443889083,
          1.041900223466531,
          1.0523839058013915,
          1.0628733488475337,
          1.0733697145049237,
          1.0838741700281656,
          1.0943878889459857,
          1.104912051993399,
          1.115447848058488,
          1.1259964751458138,
          1.1365591413585183,
          1.1471370659012663,
          1.1577314801062457,
          1.1683436284845523,
          1.1789747698053676,
          1.1896261782054718,
          1.2002991443317408,
          1.2109949765194299,
          1.2217150020091796,
          1.2324605682058642,
          1.2432330439825645,
          1.2540338210331616,
          1.2648643152772503,
          1.2757259683213187,
          1.2866202489803875,
          1.2975486548645974,
          1.3085127140355228,
          1.3195139867373495,
          1.3305540672083946,
          1.3416345855788756,
          1.352757209861249,
          1.363923648039944,
          1.3751356502678194,
          1.3863950111772696,
          1.3977035723145217,
          1.4090632247063666,
          1.4204759115693362,
          1.4319436311721563,
          1.4434684398632536,
          1.455052455276088,
          1.4666978597262164,
          1.4784069038152259,
          1.490181910258043,
          1.5020252779516334,
          1.513939486304802,
          1.525927099850628,
          1.5379907731651845,
          1.5501332561184422,
          1.5623573994858615,
          1.5746661609519985,
          1.5870626115406767,
          1.599549942509824,
          1.6121314727530978,
          1.6248106567549105,
          1.6375910931505349,
          1.6504765339486571,
          1.6634708944801972,
          1.676578264144479,
          1.6898029180320862,
          1.7031493295130982,
          1.7166221838900648,
          1.7302263932272022,
          1.7439671124812013,
          1.757849757074911,
          1.771880022073439,
          1.7860639031431935,
          1.8004077194986634,
          1.8149181390697526,
          1.829602206155055,
          1.8444673718642917,
          1.8595215276973458,
          1.874773042659028,
          1.8902308043694642,
          1.905904264701571,
          1.921803490561714,
          1.9379392205301005,
          1.9543229281971084,
          1.9709668931749165,
          1.9878842809356843,
          2.0050892328349885,
          2.0225969679305473,
          2.04042389851244,
          2.058587761635703,
          2.0771077694073607,
          2.0960047813505622,
          2.1153015028790283,
          2.135022714805042,
          2.1551955399268756,
          2.1758497541674244,
          2.197018151560737,
          2.2187369747374053,
          2.2410464256232587,
          2.263991275088682,
          2.2876215956210046,
          2.311993648242895,
          2.337170964593362,
          2.3632256783922836,
          2.3902401790157146,
          2.4183091860293806,
          2.4475423809875068,
          2.478067787475241,
          2.510036171721482,
          2.543626859776515,
          2.579055559806205,
          2.6165850860518534,
          2.6565403888876538,
          2.6993301625545643,
          2.7454788433689195,
          2.795675682072202,
          2.8508532274707465,
          2.9123194645284003,
          2.9819950891921336,
          3.062876642419005,
          3.160048574843763,
          3.283286988173613,
          3.455777199249032,
          3.7593305399424928
         ],
         "xaxis": "x2",
         "y": [
          0.07,
          0.09,
          0.09,
          0.1,
          0.1,
          0.1,
          0.11,
          0.12,
          0.12,
          0.13,
          0.13,
          0.13,
          0.16,
          0.16,
          0.16,
          0.16,
          0.17,
          0.18,
          0.18,
          0.18,
          0.18,
          0.19,
          0.19,
          0.2,
          0.2,
          0.2,
          0.2,
          0.2,
          0.2,
          0.21,
          0.22,
          0.23,
          0.23,
          0.23,
          0.23,
          0.23,
          0.23,
          0.24,
          0.24,
          0.25,
          0.25,
          0.26,
          0.26,
          0.26,
          0.26,
          0.26,
          0.26,
          0.27,
          0.27,
          0.28,
          0.29,
          0.29,
          0.29,
          0.3,
          0.3,
          0.3,
          0.31,
          0.31,
          0.31,
          0.31,
          0.31,
          0.31,
          0.31,
          0.31,
          0.32,
          0.33,
          0.33,
          0.34,
          0.34,
          0.34,
          0.34,
          0.34,
          0.35,
          0.35,
          0.35,
          0.35,
          0.36,
          0.36,
          0.36,
          0.37,
          0.38,
          0.38,
          0.39,
          0.4,
          0.4,
          0.42,
          0.42,
          0.42,
          0.42,
          0.42,
          0.43,
          0.45,
          0.45,
          0.45,
          0.46,
          0.46,
          0.46,
          0.47,
          0.47,
          0.48,
          0.48,
          0.48,
          0.48,
          0.49,
          0.5,
          0.5,
          0.5,
          0.51,
          0.51,
          0.51,
          0.52,
          0.52,
          0.52,
          0.52,
          0.53,
          0.53,
          0.53,
          0.54,
          0.55,
          0.55,
          0.56,
          0.56,
          0.56,
          0.57,
          0.58,
          0.58,
          0.58,
          0.59,
          0.59,
          0.59,
          0.59,
          0.59,
          0.59,
          0.6,
          0.6,
          0.6,
          0.6,
          0.6,
          0.6,
          0.6,
          0.61,
          0.61,
          0.62,
          0.63,
          0.63,
          0.64,
          0.64,
          0.64,
          0.65,
          0.65,
          0.65,
          0.65,
          0.65,
          0.66,
          0.66,
          0.66,
          0.67,
          0.67,
          0.67,
          0.67,
          0.68,
          0.69,
          0.71,
          0.71,
          0.72,
          0.73,
          0.73,
          0.73,
          0.73,
          0.74,
          0.74,
          0.74,
          0.75,
          0.75,
          0.75,
          0.76,
          0.76,
          0.78,
          0.8,
          0.8,
          0.8,
          0.81,
          0.81,
          0.82,
          0.82,
          0.82,
          0.82,
          0.83,
          0.84,
          0.85,
          0.85,
          0.86,
          0.87,
          0.88,
          0.92,
          0.93,
          0.93,
          0.95,
          0.97,
          0.97,
          0.98,
          1,
          1,
          1.01,
          1.02,
          1.04,
          1.05,
          1.06,
          1.07,
          1.13,
          1.18,
          1.19,
          1.19,
          1.2,
          1.2,
          1.21,
          1.21,
          1.21,
          1.23,
          1.27,
          1.28,
          1.3,
          1.31,
          1.32,
          1.33,
          1.34,
          1.36,
          1.37,
          1.38,
          1.48,
          1.48,
          1.53,
          1.53,
          1.66,
          1.79,
          1.83,
          2.02,
          2.14,
          2.14
         ],
         "yaxis": "y2"
        },
        {
         "line": {
          "color": "#44546A"
         },
         "mode": "lines",
         "type": "scatter",
         "x": [
          -1.7593305399424928,
          3.7593305399424928
         ],
         "xaxis": "x2",
         "y": [
          -0.4411398143006322,
          1.6721021573968664
         ],
         "yaxis": "y2"
        }
       ],
       "layout": {
        "annotations": [
         {
          "font": {
           "size": 16
          },
          "showarrow": false,
          "text": "Histogram",
          "x": 0.225,
          "xanchor": "center",
          "xref": "paper",
          "y": 1,
          "yanchor": "bottom",
          "yref": "paper"
         },
         {
          "font": {
           "size": 16
          },
          "showarrow": false,
          "text": "Quantile-Quantile Plot",
          "x": 0.775,
          "xanchor": "center",
          "xref": "paper",
          "y": 1,
          "yanchor": "bottom",
          "yref": "paper"
         }
        ],
        "height": 800,
        "showlegend": false,
        "template": {
         "data": {
          "bar": [
           {
            "error_x": {
             "color": "#2a3f5f"
            },
            "error_y": {
             "color": "#2a3f5f"
            },
            "marker": {
             "line": {
              "color": "white",
              "width": 0.5
             },
             "pattern": {
              "fillmode": "overlay",
              "size": 10,
              "solidity": 0.2
             }
            },
            "type": "bar"
           }
          ],
          "barpolar": [
           {
            "marker": {
             "line": {
              "color": "white",
              "width": 0.5
             },
             "pattern": {
              "fillmode": "overlay",
              "size": 10,
              "solidity": 0.2
             }
            },
            "type": "barpolar"
           }
          ],
          "carpet": [
           {
            "aaxis": {
             "endlinecolor": "#2a3f5f",
             "gridcolor": "#C8D4E3",
             "linecolor": "#C8D4E3",
             "minorgridcolor": "#C8D4E3",
             "startlinecolor": "#2a3f5f"
            },
            "baxis": {
             "endlinecolor": "#2a3f5f",
             "gridcolor": "#C8D4E3",
             "linecolor": "#C8D4E3",
             "minorgridcolor": "#C8D4E3",
             "startlinecolor": "#2a3f5f"
            },
            "type": "carpet"
           }
          ],
          "choropleth": [
           {
            "colorbar": {
             "outlinewidth": 0,
             "ticks": ""
            },
            "type": "choropleth"
           }
          ],
          "contour": [
           {
            "colorbar": {
             "outlinewidth": 0,
             "ticks": ""
            },
            "colorscale": [
             [
              0,
              "#0d0887"
             ],
             [
              0.1111111111111111,
              "#46039f"
             ],
             [
              0.2222222222222222,
              "#7201a8"
             ],
             [
              0.3333333333333333,
              "#9c179e"
             ],
             [
              0.4444444444444444,
              "#bd3786"
             ],
             [
              0.5555555555555556,
              "#d8576b"
             ],
             [
              0.6666666666666666,
              "#ed7953"
             ],
             [
              0.7777777777777778,
              "#fb9f3a"
             ],
             [
              0.8888888888888888,
              "#fdca26"
             ],
             [
              1,
              "#f0f921"
             ]
            ],
            "type": "contour"
           }
          ],
          "contourcarpet": [
           {
            "colorbar": {
             "outlinewidth": 0,
             "ticks": ""
            },
            "type": "contourcarpet"
           }
          ],
          "heatmap": [
           {
            "colorbar": {
             "outlinewidth": 0,
             "ticks": ""
            },
            "colorscale": [
             [
              0,
              "#0d0887"
             ],
             [
              0.1111111111111111,
              "#46039f"
             ],
             [
              0.2222222222222222,
              "#7201a8"
             ],
             [
              0.3333333333333333,
              "#9c179e"
             ],
             [
              0.4444444444444444,
              "#bd3786"
             ],
             [
              0.5555555555555556,
              "#d8576b"
             ],
             [
              0.6666666666666666,
              "#ed7953"
             ],
             [
              0.7777777777777778,
              "#fb9f3a"
             ],
             [
              0.8888888888888888,
              "#fdca26"
             ],
             [
              1,
              "#f0f921"
             ]
            ],
            "type": "heatmap"
           }
          ],
          "heatmapgl": [
           {
            "colorbar": {
             "outlinewidth": 0,
             "ticks": ""
            },
            "colorscale": [
             [
              0,
              "#0d0887"
             ],
             [
              0.1111111111111111,
              "#46039f"
             ],
             [
              0.2222222222222222,
              "#7201a8"
             ],
             [
              0.3333333333333333,
              "#9c179e"
             ],
             [
              0.4444444444444444,
              "#bd3786"
             ],
             [
              0.5555555555555556,
              "#d8576b"
             ],
             [
              0.6666666666666666,
              "#ed7953"
             ],
             [
              0.7777777777777778,
              "#fb9f3a"
             ],
             [
              0.8888888888888888,
              "#fdca26"
             ],
             [
              1,
              "#f0f921"
             ]
            ],
            "type": "heatmapgl"
           }
          ],
          "histogram": [
           {
            "marker": {
             "pattern": {
              "fillmode": "overlay",
              "size": 10,
              "solidity": 0.2
             }
            },
            "type": "histogram"
           }
          ],
          "histogram2d": [
           {
            "colorbar": {
             "outlinewidth": 0,
             "ticks": ""
            },
            "colorscale": [
             [
              0,
              "#0d0887"
             ],
             [
              0.1111111111111111,
              "#46039f"
             ],
             [
              0.2222222222222222,
              "#7201a8"
             ],
             [
              0.3333333333333333,
              "#9c179e"
             ],
             [
              0.4444444444444444,
              "#bd3786"
             ],
             [
              0.5555555555555556,
              "#d8576b"
             ],
             [
              0.6666666666666666,
              "#ed7953"
             ],
             [
              0.7777777777777778,
              "#fb9f3a"
             ],
             [
              0.8888888888888888,
              "#fdca26"
             ],
             [
              1,
              "#f0f921"
             ]
            ],
            "type": "histogram2d"
           }
          ],
          "histogram2dcontour": [
           {
            "colorbar": {
             "outlinewidth": 0,
             "ticks": ""
            },
            "colorscale": [
             [
              0,
              "#0d0887"
             ],
             [
              0.1111111111111111,
              "#46039f"
             ],
             [
              0.2222222222222222,
              "#7201a8"
             ],
             [
              0.3333333333333333,
              "#9c179e"
             ],
             [
              0.4444444444444444,
              "#bd3786"
             ],
             [
              0.5555555555555556,
              "#d8576b"
             ],
             [
              0.6666666666666666,
              "#ed7953"
             ],
             [
              0.7777777777777778,
              "#fb9f3a"
             ],
             [
              0.8888888888888888,
              "#fdca26"
             ],
             [
              1,
              "#f0f921"
             ]
            ],
            "type": "histogram2dcontour"
           }
          ],
          "mesh3d": [
           {
            "colorbar": {
             "outlinewidth": 0,
             "ticks": ""
            },
            "type": "mesh3d"
           }
          ],
          "parcoords": [
           {
            "line": {
             "colorbar": {
              "outlinewidth": 0,
              "ticks": ""
             }
            },
            "type": "parcoords"
           }
          ],
          "pie": [
           {
            "automargin": true,
            "type": "pie"
           }
          ],
          "scatter": [
           {
            "fillpattern": {
             "fillmode": "overlay",
             "size": 10,
             "solidity": 0.2
            },
            "type": "scatter"
           }
          ],
          "scatter3d": [
           {
            "line": {
             "colorbar": {
              "outlinewidth": 0,
              "ticks": ""
             }
            },
            "marker": {
             "colorbar": {
              "outlinewidth": 0,
              "ticks": ""
             }
            },
            "type": "scatter3d"
           }
          ],
          "scattercarpet": [
           {
            "marker": {
             "colorbar": {
              "outlinewidth": 0,
              "ticks": ""
             }
            },
            "type": "scattercarpet"
           }
          ],
          "scattergeo": [
           {
            "marker": {
             "colorbar": {
              "outlinewidth": 0,
              "ticks": ""
             }
            },
            "type": "scattergeo"
           }
          ],
          "scattergl": [
           {
            "marker": {
             "colorbar": {
              "outlinewidth": 0,
              "ticks": ""
             }
            },
            "type": "scattergl"
           }
          ],
          "scattermapbox": [
           {
            "marker": {
             "colorbar": {
              "outlinewidth": 0,
              "ticks": ""
             }
            },
            "type": "scattermapbox"
           }
          ],
          "scatterpolar": [
           {
            "marker": {
             "colorbar": {
              "outlinewidth": 0,
              "ticks": ""
             }
            },
            "type": "scatterpolar"
           }
          ],
          "scatterpolargl": [
           {
            "marker": {
             "colorbar": {
              "outlinewidth": 0,
              "ticks": ""
             }
            },
            "type": "scatterpolargl"
           }
          ],
          "scatterternary": [
           {
            "marker": {
             "colorbar": {
              "outlinewidth": 0,
              "ticks": ""
             }
            },
            "type": "scatterternary"
           }
          ],
          "surface": [
           {
            "colorbar": {
             "outlinewidth": 0,
             "ticks": ""
            },
            "colorscale": [
             [
              0,
              "#0d0887"
             ],
             [
              0.1111111111111111,
              "#46039f"
             ],
             [
              0.2222222222222222,
              "#7201a8"
             ],
             [
              0.3333333333333333,
              "#9c179e"
             ],
             [
              0.4444444444444444,
              "#bd3786"
             ],
             [
              0.5555555555555556,
              "#d8576b"
             ],
             [
              0.6666666666666666,
              "#ed7953"
             ],
             [
              0.7777777777777778,
              "#fb9f3a"
             ],
             [
              0.8888888888888888,
              "#fdca26"
             ],
             [
              1,
              "#f0f921"
             ]
            ],
            "type": "surface"
           }
          ],
          "table": [
           {
            "cells": {
             "fill": {
              "color": "#EBF0F8"
             },
             "line": {
              "color": "white"
             }
            },
            "header": {
             "fill": {
              "color": "#C8D4E3"
             },
             "line": {
              "color": "white"
             }
            },
            "type": "table"
           }
          ]
         },
         "layout": {
          "annotationdefaults": {
           "arrowcolor": "#2a3f5f",
           "arrowhead": 0,
           "arrowwidth": 1
          },
          "autotypenumbers": "strict",
          "coloraxis": {
           "colorbar": {
            "outlinewidth": 0,
            "ticks": ""
           }
          },
          "colorscale": {
           "diverging": [
            [
             0,
             "#8e0152"
            ],
            [
             0.1,
             "#c51b7d"
            ],
            [
             0.2,
             "#de77ae"
            ],
            [
             0.3,
             "#f1b6da"
            ],
            [
             0.4,
             "#fde0ef"
            ],
            [
             0.5,
             "#f7f7f7"
            ],
            [
             0.6,
             "#e6f5d0"
            ],
            [
             0.7,
             "#b8e186"
            ],
            [
             0.8,
             "#7fbc41"
            ],
            [
             0.9,
             "#4d9221"
            ],
            [
             1,
             "#276419"
            ]
           ],
           "sequential": [
            [
             0,
             "#0d0887"
            ],
            [
             0.1111111111111111,
             "#46039f"
            ],
            [
             0.2222222222222222,
             "#7201a8"
            ],
            [
             0.3333333333333333,
             "#9c179e"
            ],
            [
             0.4444444444444444,
             "#bd3786"
            ],
            [
             0.5555555555555556,
             "#d8576b"
            ],
            [
             0.6666666666666666,
             "#ed7953"
            ],
            [
             0.7777777777777778,
             "#fb9f3a"
            ],
            [
             0.8888888888888888,
             "#fdca26"
            ],
            [
             1,
             "#f0f921"
            ]
           ],
           "sequentialminus": [
            [
             0,
             "#0d0887"
            ],
            [
             0.1111111111111111,
             "#46039f"
            ],
            [
             0.2222222222222222,
             "#7201a8"
            ],
            [
             0.3333333333333333,
             "#9c179e"
            ],
            [
             0.4444444444444444,
             "#bd3786"
            ],
            [
             0.5555555555555556,
             "#d8576b"
            ],
            [
             0.6666666666666666,
             "#ed7953"
            ],
            [
             0.7777777777777778,
             "#fb9f3a"
            ],
            [
             0.8888888888888888,
             "#fdca26"
            ],
            [
             1,
             "#f0f921"
            ]
           ]
          },
          "colorway": [
           "#636efa",
           "#EF553B",
           "#00cc96",
           "#ab63fa",
           "#FFA15A",
           "#19d3f3",
           "#FF6692",
           "#B6E880",
           "#FF97FF",
           "#FECB52"
          ],
          "font": {
           "color": "#2a3f5f"
          },
          "geo": {
           "bgcolor": "white",
           "lakecolor": "white",
           "landcolor": "white",
           "showlakes": true,
           "showland": true,
           "subunitcolor": "#C8D4E3"
          },
          "hoverlabel": {
           "align": "left"
          },
          "hovermode": "closest",
          "mapbox": {
           "style": "light"
          },
          "paper_bgcolor": "white",
          "plot_bgcolor": "white",
          "polar": {
           "angularaxis": {
            "gridcolor": "#EBF0F8",
            "linecolor": "#EBF0F8",
            "ticks": ""
           },
           "bgcolor": "white",
           "radialaxis": {
            "gridcolor": "#EBF0F8",
            "linecolor": "#EBF0F8",
            "ticks": ""
           }
          },
          "scene": {
           "xaxis": {
            "backgroundcolor": "white",
            "gridcolor": "#DFE8F3",
            "gridwidth": 2,
            "linecolor": "#EBF0F8",
            "showbackground": true,
            "ticks": "",
            "zerolinecolor": "#EBF0F8"
           },
           "yaxis": {
            "backgroundcolor": "white",
            "gridcolor": "#DFE8F3",
            "gridwidth": 2,
            "linecolor": "#EBF0F8",
            "showbackground": true,
            "ticks": "",
            "zerolinecolor": "#EBF0F8"
           },
           "zaxis": {
            "backgroundcolor": "white",
            "gridcolor": "#DFE8F3",
            "gridwidth": 2,
            "linecolor": "#EBF0F8",
            "showbackground": true,
            "ticks": "",
            "zerolinecolor": "#EBF0F8"
           }
          },
          "shapedefaults": {
           "line": {
            "color": "#2a3f5f"
           }
          },
          "ternary": {
           "aaxis": {
            "gridcolor": "#DFE8F3",
            "linecolor": "#A2B1C6",
            "ticks": ""
           },
           "baxis": {
            "gridcolor": "#DFE8F3",
            "linecolor": "#A2B1C6",
            "ticks": ""
           },
           "bgcolor": "white",
           "caxis": {
            "gridcolor": "#DFE8F3",
            "linecolor": "#A2B1C6",
            "ticks": ""
           }
          },
          "title": {
           "x": 0.05
          },
          "xaxis": {
           "automargin": true,
           "gridcolor": "#EBF0F8",
           "linecolor": "#EBF0F8",
           "ticks": "",
           "title": {
            "standoff": 15
           },
           "zerolinecolor": "#EBF0F8",
           "zerolinewidth": 2
          },
          "yaxis": {
           "automargin": true,
           "gridcolor": "#EBF0F8",
           "linecolor": "#EBF0F8",
           "ticks": "",
           "title": {
            "standoff": 15
           },
           "zerolinecolor": "#EBF0F8",
           "zerolinewidth": 2
          }
         }
        },
        "title": {
         "text": "MAE Tb (s) sensor (All data, N=239)"
        },
        "width": 900,
        "xaxis": {
         "anchor": "y",
         "domain": [
          0,
          0.45
         ],
         "title": {
          "text": "Delay"
         },
         "zeroline": false
        },
        "xaxis2": {
         "anchor": "y2",
         "domain": [
          0.55,
          1
         ],
         "title": {
          "text": "Theoritical Quantities"
         },
         "zeroline": false
        },
        "yaxis": {
         "anchor": "x",
         "domain": [
          0,
          1
         ],
         "title": {
          "text": "Count"
         }
        },
        "yaxis2": {
         "anchor": "x2",
         "domain": [
          0,
          1
         ],
         "title": {
          "text": "Sample Quantities"
         }
        }
       }
      }
     },
     "metadata": {},
     "output_type": "display_data"
    }
   ],
   "source": [
    "metric = \"MAE Tb (s)\"\n",
    "normality_test(bp_mag[metric].str.split(\" , \", expand=True).astype(float).iloc[:,0], sensor=metric, type=\"All data\")\n",
    "normality_test(bp_pzt[metric].str.split(\" , \", expand=True).astype(float).iloc[:,0], sensor=metric, type=\"All data\")"
   ]
  },
  {
   "cell_type": "code",
   "execution_count": 21,
   "metadata": {},
   "outputs": [
    {
     "name": "stdout",
     "output_type": "stream",
     "text": [
      "MAE Tb (s): WilcoxonResult(statistic=6519.5, pvalue=7.173929145188181e-13)\n",
      "MAE Ti (s): WilcoxonResult(statistic=4554.0, pvalue=9.769842103032765e-20)\n",
      "MAE Te (s): WilcoxonResult(statistic=4761.5, pvalue=9.576626182673848e-19)\n"
     ]
    }
   ],
   "source": [
    "for metric in [\"MAE Tb (s)\", \"MAE Ti (s)\", \"MAE Te (s)\"]:\n",
    "    print(f'{metric}: {scipy.stats.wilcoxon(bp_mag[metric].str.split(\" , \", expand=True).astype(float).iloc[:,0], bp_pzt[metric].str.split(\" , \", expand=True).astype(float).iloc[:,0])}')"
   ]
  },
  {
   "cell_type": "code",
   "execution_count": 28,
   "metadata": {},
   "outputs": [
    {
     "name": "stderr",
     "output_type": "stream",
     "text": [
      "/Users/anasofiacc/dev/M-RESP/.venv/lib/python3.9/site-packages/scipy/stats/_morestats.py:4088: UserWarning:\n",
      "\n",
      "Exact p-value calculation does not work if there are zeros. Switching to normal approximation.\n",
      "\n",
      "/Users/anasofiacc/dev/M-RESP/.venv/lib/python3.9/site-packages/scipy/stats/_morestats.py:4088: UserWarning:\n",
      "\n",
      "Exact p-value calculation does not work if there are zeros. Switching to normal approximation.\n",
      "\n",
      "/Users/anasofiacc/dev/M-RESP/.venv/lib/python3.9/site-packages/scipy/stats/_morestats.py:4088: UserWarning:\n",
      "\n",
      "Exact p-value calculation does not work if there are zeros. Switching to normal approximation.\n",
      "\n",
      "/Users/anasofiacc/dev/M-RESP/.venv/lib/python3.9/site-packages/scipy/stats/_morestats.py:4088: UserWarning:\n",
      "\n",
      "Exact p-value calculation does not work if there are zeros. Switching to normal approximation.\n",
      "\n",
      "/Users/anasofiacc/dev/M-RESP/.venv/lib/python3.9/site-packages/scipy/stats/_morestats.py:4088: UserWarning:\n",
      "\n",
      "Exact p-value calculation does not work if there are zeros. Switching to normal approximation.\n",
      "\n"
     ]
    },
    {
     "data": {
      "text/html": [
       "<div>\n",
       "<style scoped>\n",
       "    .dataframe tbody tr th:only-of-type {\n",
       "        vertical-align: middle;\n",
       "    }\n",
       "\n",
       "    .dataframe tbody tr th {\n",
       "        vertical-align: top;\n",
       "    }\n",
       "\n",
       "    .dataframe thead th {\n",
       "        text-align: right;\n",
       "    }\n",
       "</style>\n",
       "<table border=\"1\" class=\"dataframe\">\n",
       "  <thead>\n",
       "    <tr style=\"text-align: right;\">\n",
       "      <th></th>\n",
       "      <th>Activity</th>\n",
       "      <th>Metric</th>\n",
       "      <th>Statistic</th>\n",
       "      <th>p-value</th>\n",
       "    </tr>\n",
       "  </thead>\n",
       "  <tbody>\n",
       "    <tr>\n",
       "      <th>0</th>\n",
       "      <td>SNB</td>\n",
       "      <td>MAE Tb (s)</td>\n",
       "      <td>50.5</td>\n",
       "      <td>0.375458</td>\n",
       "    </tr>\n",
       "    <tr>\n",
       "      <th>1</th>\n",
       "      <td>SGB</td>\n",
       "      <td>MAE Tb (s)</td>\n",
       "      <td>59.0</td>\n",
       "      <td>0.668549</td>\n",
       "    </tr>\n",
       "    <tr>\n",
       "      <th>2</th>\n",
       "      <td>MIXB</td>\n",
       "      <td>MAE Tb (s)</td>\n",
       "      <td>18.0</td>\n",
       "      <td>0.015076</td>\n",
       "    </tr>\n",
       "    <tr>\n",
       "      <th>3</th>\n",
       "      <td>STNB</td>\n",
       "      <td>MAE Tb (s)</td>\n",
       "      <td>47.5</td>\n",
       "      <td>0.297852</td>\n",
       "    </tr>\n",
       "    <tr>\n",
       "      <th>4</th>\n",
       "      <td>MCH</td>\n",
       "      <td>MAE Tb (s)</td>\n",
       "      <td>7.0</td>\n",
       "      <td>0.000580</td>\n",
       "    </tr>\n",
       "    <tr>\n",
       "      <th>5</th>\n",
       "      <td>SQT</td>\n",
       "      <td>MAE Tb (s)</td>\n",
       "      <td>16.5</td>\n",
       "      <td>0.005157</td>\n",
       "    </tr>\n",
       "    <tr>\n",
       "      <th>6</th>\n",
       "      <td>AAL</td>\n",
       "      <td>MAE Tb (s)</td>\n",
       "      <td>36.0</td>\n",
       "      <td>0.172848</td>\n",
       "    </tr>\n",
       "    <tr>\n",
       "      <th>7</th>\n",
       "      <td>AAR</td>\n",
       "      <td>MAE Tb (s)</td>\n",
       "      <td>29.5</td>\n",
       "      <td>0.044312</td>\n",
       "    </tr>\n",
       "    <tr>\n",
       "      <th>8</th>\n",
       "      <td>ALL</td>\n",
       "      <td>MAE Tb (s)</td>\n",
       "      <td>13.0</td>\n",
       "      <td>0.002686</td>\n",
       "    </tr>\n",
       "    <tr>\n",
       "      <th>9</th>\n",
       "      <td>ALR</td>\n",
       "      <td>MAE Tb (s)</td>\n",
       "      <td>25.0</td>\n",
       "      <td>0.046826</td>\n",
       "    </tr>\n",
       "    <tr>\n",
       "      <th>10</th>\n",
       "      <td>UAL</td>\n",
       "      <td>MAE Tb (s)</td>\n",
       "      <td>19.0</td>\n",
       "      <td>0.009186</td>\n",
       "    </tr>\n",
       "    <tr>\n",
       "      <th>11</th>\n",
       "      <td>UAR</td>\n",
       "      <td>MAE Tb (s)</td>\n",
       "      <td>22.0</td>\n",
       "      <td>0.015503</td>\n",
       "    </tr>\n",
       "    <tr>\n",
       "      <th>12</th>\n",
       "      <td>SE</td>\n",
       "      <td>MAE Tb (s)</td>\n",
       "      <td>17.0</td>\n",
       "      <td>0.006287</td>\n",
       "    </tr>\n",
       "    <tr>\n",
       "      <th>13</th>\n",
       "      <td>SS</td>\n",
       "      <td>MAE Tb (s)</td>\n",
       "      <td>41.0</td>\n",
       "      <td>0.175354</td>\n",
       "    </tr>\n",
       "    <tr>\n",
       "      <th>14</th>\n",
       "      <td>TR</td>\n",
       "      <td>MAE Tb (s)</td>\n",
       "      <td>59.0</td>\n",
       "      <td>0.668549</td>\n",
       "    </tr>\n",
       "    <tr>\n",
       "      <th>15</th>\n",
       "      <td>SNB</td>\n",
       "      <td>MAE Ti (s)</td>\n",
       "      <td>29.5</td>\n",
       "      <td>0.044312</td>\n",
       "    </tr>\n",
       "    <tr>\n",
       "      <th>16</th>\n",
       "      <td>SGB</td>\n",
       "      <td>MAE Ti (s)</td>\n",
       "      <td>35.0</td>\n",
       "      <td>0.093445</td>\n",
       "    </tr>\n",
       "    <tr>\n",
       "      <th>17</th>\n",
       "      <td>MIXB</td>\n",
       "      <td>MAE Ti (s)</td>\n",
       "      <td>10.0</td>\n",
       "      <td>0.002625</td>\n",
       "    </tr>\n",
       "    <tr>\n",
       "      <th>18</th>\n",
       "      <td>STNB</td>\n",
       "      <td>MAE Ti (s)</td>\n",
       "      <td>27.0</td>\n",
       "      <td>0.033539</td>\n",
       "    </tr>\n",
       "    <tr>\n",
       "      <th>19</th>\n",
       "      <td>MCH</td>\n",
       "      <td>MAE Ti (s)</td>\n",
       "      <td>25.0</td>\n",
       "      <td>0.024963</td>\n",
       "    </tr>\n",
       "    <tr>\n",
       "      <th>20</th>\n",
       "      <td>SQT</td>\n",
       "      <td>MAE Ti (s)</td>\n",
       "      <td>3.0</td>\n",
       "      <td>0.000153</td>\n",
       "    </tr>\n",
       "    <tr>\n",
       "      <th>21</th>\n",
       "      <td>AAL</td>\n",
       "      <td>MAE Ti (s)</td>\n",
       "      <td>31.5</td>\n",
       "      <td>0.057678</td>\n",
       "    </tr>\n",
       "    <tr>\n",
       "      <th>22</th>\n",
       "      <td>AAR</td>\n",
       "      <td>MAE Ti (s)</td>\n",
       "      <td>34.0</td>\n",
       "      <td>0.083252</td>\n",
       "    </tr>\n",
       "    <tr>\n",
       "      <th>23</th>\n",
       "      <td>ALL</td>\n",
       "      <td>MAE Ti (s)</td>\n",
       "      <td>12.0</td>\n",
       "      <td>0.002136</td>\n",
       "    </tr>\n",
       "    <tr>\n",
       "      <th>24</th>\n",
       "      <td>ALR</td>\n",
       "      <td>MAE Ti (s)</td>\n",
       "      <td>24.0</td>\n",
       "      <td>0.021393</td>\n",
       "    </tr>\n",
       "    <tr>\n",
       "      <th>25</th>\n",
       "      <td>UAL</td>\n",
       "      <td>MAE Ti (s)</td>\n",
       "      <td>13.5</td>\n",
       "      <td>0.002686</td>\n",
       "    </tr>\n",
       "    <tr>\n",
       "      <th>26</th>\n",
       "      <td>UAR</td>\n",
       "      <td>MAE Ti (s)</td>\n",
       "      <td>17.0</td>\n",
       "      <td>0.006287</td>\n",
       "    </tr>\n",
       "    <tr>\n",
       "      <th>27</th>\n",
       "      <td>SE</td>\n",
       "      <td>MAE Ti (s)</td>\n",
       "      <td>12.0</td>\n",
       "      <td>0.006406</td>\n",
       "    </tr>\n",
       "    <tr>\n",
       "      <th>28</th>\n",
       "      <td>SS</td>\n",
       "      <td>MAE Ti (s)</td>\n",
       "      <td>28.0</td>\n",
       "      <td>0.038635</td>\n",
       "    </tr>\n",
       "    <tr>\n",
       "      <th>29</th>\n",
       "      <td>TR</td>\n",
       "      <td>MAE Ti (s)</td>\n",
       "      <td>33.5</td>\n",
       "      <td>0.073914</td>\n",
       "    </tr>\n",
       "    <tr>\n",
       "      <th>30</th>\n",
       "      <td>SNB</td>\n",
       "      <td>MAE Te (s)</td>\n",
       "      <td>29.0</td>\n",
       "      <td>0.044312</td>\n",
       "    </tr>\n",
       "    <tr>\n",
       "      <th>31</th>\n",
       "      <td>SGB</td>\n",
       "      <td>MAE Te (s)</td>\n",
       "      <td>26.0</td>\n",
       "      <td>0.028992</td>\n",
       "    </tr>\n",
       "    <tr>\n",
       "      <th>32</th>\n",
       "      <td>MIXB</td>\n",
       "      <td>MAE Te (s)</td>\n",
       "      <td>10.0</td>\n",
       "      <td>0.002625</td>\n",
       "    </tr>\n",
       "    <tr>\n",
       "      <th>33</th>\n",
       "      <td>STNB</td>\n",
       "      <td>MAE Te (s)</td>\n",
       "      <td>29.0</td>\n",
       "      <td>0.044312</td>\n",
       "    </tr>\n",
       "    <tr>\n",
       "      <th>34</th>\n",
       "      <td>MCH</td>\n",
       "      <td>MAE Te (s)</td>\n",
       "      <td>15.0</td>\n",
       "      <td>0.004181</td>\n",
       "    </tr>\n",
       "    <tr>\n",
       "      <th>35</th>\n",
       "      <td>SQT</td>\n",
       "      <td>MAE Te (s)</td>\n",
       "      <td>7.0</td>\n",
       "      <td>0.000580</td>\n",
       "    </tr>\n",
       "    <tr>\n",
       "      <th>36</th>\n",
       "      <td>AAL</td>\n",
       "      <td>MAE Te (s)</td>\n",
       "      <td>32.0</td>\n",
       "      <td>0.065399</td>\n",
       "    </tr>\n",
       "    <tr>\n",
       "      <th>37</th>\n",
       "      <td>AAR</td>\n",
       "      <td>MAE Te (s)</td>\n",
       "      <td>28.5</td>\n",
       "      <td>0.038635</td>\n",
       "    </tr>\n",
       "    <tr>\n",
       "      <th>38</th>\n",
       "      <td>ALL</td>\n",
       "      <td>MAE Te (s)</td>\n",
       "      <td>10.0</td>\n",
       "      <td>0.001312</td>\n",
       "    </tr>\n",
       "    <tr>\n",
       "      <th>39</th>\n",
       "      <td>ALR</td>\n",
       "      <td>MAE Te (s)</td>\n",
       "      <td>27.0</td>\n",
       "      <td>0.033539</td>\n",
       "    </tr>\n",
       "    <tr>\n",
       "      <th>40</th>\n",
       "      <td>UAL</td>\n",
       "      <td>MAE Te (s)</td>\n",
       "      <td>38.0</td>\n",
       "      <td>0.129730</td>\n",
       "    </tr>\n",
       "    <tr>\n",
       "      <th>41</th>\n",
       "      <td>UAR</td>\n",
       "      <td>MAE Te (s)</td>\n",
       "      <td>18.5</td>\n",
       "      <td>0.007629</td>\n",
       "    </tr>\n",
       "    <tr>\n",
       "      <th>42</th>\n",
       "      <td>SE</td>\n",
       "      <td>MAE Te (s)</td>\n",
       "      <td>10.0</td>\n",
       "      <td>0.004506</td>\n",
       "    </tr>\n",
       "    <tr>\n",
       "      <th>43</th>\n",
       "      <td>SS</td>\n",
       "      <td>MAE Te (s)</td>\n",
       "      <td>24.0</td>\n",
       "      <td>0.040888</td>\n",
       "    </tr>\n",
       "    <tr>\n",
       "      <th>44</th>\n",
       "      <td>TR</td>\n",
       "      <td>MAE Te (s)</td>\n",
       "      <td>46.0</td>\n",
       "      <td>0.274445</td>\n",
       "    </tr>\n",
       "  </tbody>\n",
       "</table>\n",
       "</div>"
      ],
      "text/plain": [
       "   Activity      Metric  Statistic   p-value\n",
       "0       SNB  MAE Tb (s)       50.5  0.375458\n",
       "1       SGB  MAE Tb (s)       59.0  0.668549\n",
       "2      MIXB  MAE Tb (s)       18.0  0.015076\n",
       "3      STNB  MAE Tb (s)       47.5  0.297852\n",
       "4       MCH  MAE Tb (s)        7.0  0.000580\n",
       "5       SQT  MAE Tb (s)       16.5  0.005157\n",
       "6       AAL  MAE Tb (s)       36.0  0.172848\n",
       "7       AAR  MAE Tb (s)       29.5  0.044312\n",
       "8       ALL  MAE Tb (s)       13.0  0.002686\n",
       "9       ALR  MAE Tb (s)       25.0  0.046826\n",
       "10      UAL  MAE Tb (s)       19.0  0.009186\n",
       "11      UAR  MAE Tb (s)       22.0  0.015503\n",
       "12       SE  MAE Tb (s)       17.0  0.006287\n",
       "13       SS  MAE Tb (s)       41.0  0.175354\n",
       "14       TR  MAE Tb (s)       59.0  0.668549\n",
       "15      SNB  MAE Ti (s)       29.5  0.044312\n",
       "16      SGB  MAE Ti (s)       35.0  0.093445\n",
       "17     MIXB  MAE Ti (s)       10.0  0.002625\n",
       "18     STNB  MAE Ti (s)       27.0  0.033539\n",
       "19      MCH  MAE Ti (s)       25.0  0.024963\n",
       "20      SQT  MAE Ti (s)        3.0  0.000153\n",
       "21      AAL  MAE Ti (s)       31.5  0.057678\n",
       "22      AAR  MAE Ti (s)       34.0  0.083252\n",
       "23      ALL  MAE Ti (s)       12.0  0.002136\n",
       "24      ALR  MAE Ti (s)       24.0  0.021393\n",
       "25      UAL  MAE Ti (s)       13.5  0.002686\n",
       "26      UAR  MAE Ti (s)       17.0  0.006287\n",
       "27       SE  MAE Ti (s)       12.0  0.006406\n",
       "28       SS  MAE Ti (s)       28.0  0.038635\n",
       "29       TR  MAE Ti (s)       33.5  0.073914\n",
       "30      SNB  MAE Te (s)       29.0  0.044312\n",
       "31      SGB  MAE Te (s)       26.0  0.028992\n",
       "32     MIXB  MAE Te (s)       10.0  0.002625\n",
       "33     STNB  MAE Te (s)       29.0  0.044312\n",
       "34      MCH  MAE Te (s)       15.0  0.004181\n",
       "35      SQT  MAE Te (s)        7.0  0.000580\n",
       "36      AAL  MAE Te (s)       32.0  0.065399\n",
       "37      AAR  MAE Te (s)       28.5  0.038635\n",
       "38      ALL  MAE Te (s)       10.0  0.001312\n",
       "39      ALR  MAE Te (s)       27.0  0.033539\n",
       "40      UAL  MAE Te (s)       38.0  0.129730\n",
       "41      UAR  MAE Te (s)       18.5  0.007629\n",
       "42       SE  MAE Te (s)       10.0  0.004506\n",
       "43       SS  MAE Te (s)       24.0  0.040888\n",
       "44       TR  MAE Te (s)       46.0  0.274445"
      ]
     },
     "execution_count": 28,
     "metadata": {},
     "output_type": "execute_result"
    }
   ],
   "source": [
    "wilc = pd.DataFrame(columns=[\"Activity\", \"Metric\", \"Statistic\", \"p-value\"])\n",
    "\n",
    "for metric in [\"MAE Tb (s)\", \"MAE Ti (s)\", \"MAE Te (s)\"]:\n",
    "    for activity in bp_mag[\"Activity\"].unique():\n",
    "        new_entry = {}\n",
    "        new_entry[\"Activity\"] = activity\n",
    "        new_entry[\"Metric\"] = metric\n",
    "        new_entry[\"Statistic\"], new_entry[\"p-value\"] = scipy.stats.wilcoxon(bp_mag[bp_mag[\"Activity\"]==activity][metric].str.split(\" , \", expand=True).astype(float).iloc[:,0].values, bp_pzt[bp_pzt[\"Activity\"]==activity][metric].str.split(\" , \", expand=True).astype(float).iloc[:,0].values)\n",
    "        wilc.loc[len(wilc)] = new_entry\n",
    "        \n",
    "wilc"
   ]
  },
  {
   "cell_type": "code",
   "execution_count": null,
   "metadata": {},
   "outputs": [],
   "source": []
  }
 ],
 "metadata": {
  "kernelspec": {
   "display_name": ".venv",
   "language": "python",
   "name": "python3"
  },
  "language_info": {
   "codemirror_mode": {
    "name": "ipython",
    "version": 3
   },
   "file_extension": ".py",
   "mimetype": "text/x-python",
   "name": "python",
   "nbconvert_exporter": "python",
   "pygments_lexer": "ipython3",
   "version": "3.9.16"
  }
 },
 "nbformat": 4,
 "nbformat_minor": 2
}
